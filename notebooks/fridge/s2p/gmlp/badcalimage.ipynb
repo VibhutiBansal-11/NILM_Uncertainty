{
 "cells": [
  {
   "cell_type": "code",
   "execution_count": 1,
   "metadata": {},
   "outputs": [],
   "source": [
    "import os\n",
    "os.chdir(\"../../../../\")"
   ]
  },
  {
   "cell_type": "code",
   "execution_count": 2,
   "metadata": {},
   "outputs": [],
   "source": [
    "import matplotlib.pyplot as plt\n",
    "from utilities import plot,errors\n",
    "import pandas as pd\n",
    "from utilities.recalibration import *\n",
    "from sklearn.isotonic import IsotonicRegression\n",
    "import jax\n",
    "import jax.numpy as jnp"
   ]
  },
  {
   "cell_type": "code",
   "execution_count": 3,
   "metadata": {},
   "outputs": [],
   "source": [
    "training_predictions_df=pd.read_csv(\"notebooks/fridge/s2p/gmlp/training_predictions.csv\")\n",
    "testing_predictions_df = pd.read_csv(\"notebooks/fridge/s2p/gmlp/testing_predictions.csv\")\n",
    "cal_predictions_df= pd.read_csv(\"notebooks/fridge/s2p/gmlp/calibration_predictions.csv\")"
   ]
  },
  {
   "cell_type": "code",
   "execution_count": 4,
   "metadata": {},
   "outputs": [],
   "source": [
    "y_train=training_predictions_df['Ground Truth']\n",
    "train_mean=training_predictions_df['mean']\n",
    "train_sigma=training_predictions_df['sigma']\n",
    "mc_train_mean=training_predictions_df['MC_mean']\n",
    "mc_train_sigma=training_predictions_df['MC_sigma']\n",
    "de_train_mean=training_predictions_df['DE_mean']\n",
    "de_train_sigma=training_predictions_df['DE_sigma']\n",
    "bs_train_mean=training_predictions_df['BS_mean']\n",
    "bs_train_sigma=training_predictions_df['BS_sigma']\n",
    "\n",
    "y_cal=cal_predictions_df['Ground Truth']\n",
    "cal_mean=cal_predictions_df['mean']\n",
    "cal_sigma=cal_predictions_df['sigma']\n",
    "mc_cal_mean=cal_predictions_df['MC_Mean']\n",
    "mc_cal_sigma=cal_predictions_df['MC_Sigma']\n",
    "de_cal_mean=cal_predictions_df['DE_mean']\n",
    "de_cal_sigma=cal_predictions_df['DE_sigma']\n",
    "bs_cal_mean=cal_predictions_df['bs_Mean']\n",
    "bs_cal_sigma=cal_predictions_df['bs_Sigma']\n",
    "\n",
    "y_test=testing_predictions_df['Ground Truth']\n",
    "test_mean=testing_predictions_df['mean']\n",
    "test_sigma=testing_predictions_df['sigma']\n",
    "mc_test_mean=testing_predictions_df['MC_Mean']\n",
    "mc_test_sigma=testing_predictions_df['MC_Sigma'] \n",
    "de_test_mean=testing_predictions_df['de_Mean']\n",
    "de_test_sigma=testing_predictions_df['de_Sigma']\n",
    "bs_test_mean=testing_predictions_df['bs_Mean']\n",
    "bs_test_sigma=testing_predictions_df['bs_Sigma']"
   ]
  },
  {
   "cell_type": "code",
   "execution_count": 5,
   "metadata": {},
   "outputs": [],
   "source": [
    "def ace(ideal,predicted):\n",
    "    \"\"\"\n",
    "    dataframe : pandas dataframe with Ideal and Counts as column for regression calibration\n",
    "    It can be directly used as 2nd output from calibration_regression in plot.py \n",
    "    \"\"\"\n",
    "    def rmse_loss(y,yhat):\n",
    "      return jnp.abs(y-yhat)\n",
    "    return jnp.mean(jax.vmap(rmse_loss,in_axes=(0,0))(ideal,predicted))\n",
    "    # return(jnp.sum(jnp.abs(dataframe['Ideal'].values-dataframe['Counts'].values)))\n"
   ]
  },
  {
   "cell_type": "code",
   "execution_count": 6,
   "metadata": {},
   "outputs": [],
   "source": [
    "# For saving\n",
    "recalibration_df = pd.DataFrame()"
   ]
  },
  {
   "cell_type": "markdown",
   "metadata": {},
   "source": [
    "## Single\n"
   ]
  },
  {
   "cell_type": "code",
   "execution_count": 7,
   "metadata": {},
   "outputs": [],
   "source": [
    "def find_p_hat_(y, mean_prediction,std_prediction):\n",
    "    out = {}\n",
    "    for mass in np.linspace(1e-10, 1-1e-20, 1000):\n",
    "    #for mass in jnp.arange(0, 1.1, 0.1):\n",
    "        out[mass] = plot_find_p(y, mean_prediction,std_prediction, mass)[1]\n",
    "    df = pd.Series(out).to_frame()\n",
    "    df.index.name = 'p'\n",
    "    df.columns = ['p_hat']\n",
    "    # df=df.reset_index()\n",
    "    return df"
   ]
  },
  {
   "cell_type": "code",
   "execution_count": 8,
   "metadata": {},
   "outputs": [],
   "source": [
    "series_train = find_p_hat_(y_train,train_mean,train_sigma)\n",
    "series_test = find_p_hat_(y_test,test_mean,test_sigma)\n",
    "series_cal= find_p_hat_(y_cal,cal_mean,cal_sigma)\n",
    "p=series_cal.index\n",
    "recalibration_df[\"p\"] = p"
   ]
  },
  {
   "cell_type": "code",
   "execution_count": 9,
   "metadata": {},
   "outputs": [
    {
     "data": {
      "text/plain": [
       "(1000, 1)"
      ]
     },
     "execution_count": 9,
     "metadata": {},
     "output_type": "execute_result"
    }
   ],
   "source": [
    "series_cal.values.shape"
   ]
  },
  {
   "cell_type": "code",
   "execution_count": 10,
   "metadata": {},
   "outputs": [],
   "source": [
    "calibrator = IsotonicRegression(out_of_bounds='clip')\n",
    "calibrator.fit(series_cal.values,series_cal.index)\n",
    "new_p=calibrator.predict(series_cal.index)"
   ]
  },
  {
   "cell_type": "code",
   "execution_count": 11,
   "metadata": {},
   "outputs": [],
   "source": [
    "new_p_hat_train=find_new_p_hat(y_train,new_p,train_mean,train_sigma)\n",
    "new_p_hat_cal=find_new_p_hat(y_cal,new_p,cal_mean,cal_sigma)\n",
    "new_p_hat_test=find_new_p_hat(y_test,new_p,test_mean,test_sigma)"
   ]
  },
  {
   "cell_type": "code",
   "execution_count": 12,
   "metadata": {},
   "outputs": [],
   "source": [
    "import seaborn as sns\n",
    "from probml_utils import latexify,savefig"
   ]
  },
  {
   "cell_type": "code",
   "execution_count": 13,
   "metadata": {},
   "outputs": [],
   "source": [
    "import os\n",
    "os.environ['LATEXIFY']='1'\n",
    "os.environ['FIG_DIR']='FIGURES/'\n",
    "latexify(fig_height=7/3,fig_width=7/1.8)"
   ]
  },
  {
   "cell_type": "code",
   "execution_count": 14,
   "metadata": {},
   "outputs": [],
   "source": [
    "\n",
    "plt.figure()\n",
    "# plt.subplot(1,3,1)\n",
    "# plt.plot(p, series_train.values, label='Uncalibrated')\n",
    "# plt.plot(p, new_p_hat_train, label='Calibrated')\n",
    "# plt.plot([0, 1], [0, 1], label=\"Ideal\")\n",
    "# plt.title(f\"Train Data: Before cal:{ace(p.values,series_train.values):2f} After cal:{ace(p.values,new_p_hat_train):2f}\")\n",
    "# plt.legend()\n",
    "\n",
    "fig, (a,b)=plt.subplots(1,2,sharey='row')\n",
    "a.plot([0, 1], [0, 1], label=\"Ideal\")\n",
    "a.plot(p, series_cal.values, label='Uncalibrated', linestyle='dashed')\n",
    "a.plot(p, new_p_hat_cal, label='Calibrated', linestyle='dashed')\n",
    "# a.plot([0, 1], [0, 1], label=\"Ideal\")\n",
    "a.set_title(f\"Before cal:{ace(p.values,series_cal.values):.2f}\\n After cal:{ace(p.values,new_p_hat_cal):.2f}\")\n",
    "# b.legend(bbox_to_anchor=(1.5,1.7),ncol=3)\n",
    "# a.ylim([0,1])\n",
    "# a.xlim([0,1])\n",
    "# plt.subplot(1,3,3)\n",
    "b.plot(p, series_test.values, label='Uncalibrated', linestyle='dashed')\n",
    "b.plot(p, new_p_hat_test,label='Calibrated', linestyle='dashed')\n",
    "b.plot([0, 1], [0, 1], label=\"Ideal\")\n",
    "b.set_title(f\"Before cal:{ace(p.values,series_test.values):.2f}\\n After cal:{ace(p.values,new_p_hat_test):.2f}\")\n",
    "# b.legend()\n",
    "# b.ylim([0,1])\n",
    "# b.xlim([0,1])\n",
    "b.legend(bbox_to_anchor=(1.25,1.6),ncol=3)\n",
    "sns.despine()"
   ]
  },
  {
   "cell_type": "code",
   "execution_count": 15,
   "metadata": {},
   "outputs": [],
   "source": [
    "recalibration_df[\"phat\"] = series_test.values\n",
    "recalibration_df[\"new_p\"] = new_p\n",
    "recalibration_df[\"new_phat\"] = new_p_hat_test"
   ]
  },
  {
   "cell_type": "markdown",
   "metadata": {},
   "source": [
    "## MC Dropout"
   ]
  },
  {
   "cell_type": "code",
   "execution_count": 16,
   "metadata": {},
   "outputs": [],
   "source": [
    "import matplotlib.patches as mpatches\n",
    "import matplotlib.lines as mlines"
   ]
  },
  {
   "cell_type": "code",
   "execution_count": 17,
   "metadata": {},
   "outputs": [],
   "source": [
    "series_train = find_p_hat_(y_train,mc_train_mean,mc_train_sigma)\n",
    "series_test = find_p_hat_(y_test,mc_test_mean,mc_test_sigma)\n",
    "series_cal= find_p_hat_(y_cal,mc_cal_mean,mc_cal_sigma)\n",
    "p=series_cal.index\n",
    "recalibration_df[\"p\"] = p"
   ]
  },
  {
   "cell_type": "code",
   "execution_count": 18,
   "metadata": {},
   "outputs": [],
   "source": [
    "calibrator_mc = IsotonicRegression(out_of_bounds='clip')\n",
    "calibrator_mc.fit(series_cal.values,series_cal.index)\n",
    "new_p=calibrator_mc.predict(series_cal.index)"
   ]
  },
  {
   "cell_type": "code",
   "execution_count": 19,
   "metadata": {},
   "outputs": [],
   "source": [
    "new_p_hat_train=find_new_p_hat(y_train,new_p,mc_train_mean,mc_train_sigma)\n",
    "new_p_hat_cal=find_new_p_hat(y_cal,new_p,mc_cal_mean,mc_cal_sigma)\n",
    "new_p_hat_test=find_new_p_hat(y_test,new_p,mc_test_mean,mc_test_sigma)"
   ]
  },
  {
   "cell_type": "code",
   "execution_count": 20,
   "metadata": {},
   "outputs": [],
   "source": [
    "dataframe_recal=pd.read_csv('notebooks/fridge/s2p/gmlp/recalibration_df.csv')\n",
    "dataframe_test=pd.read_csv('notebooks/fridge/s2p/gmlp/testing_predictions.csv') "
   ]
  },
  {
   "cell_type": "code",
   "execution_count": 21,
   "metadata": {},
   "outputs": [],
   "source": [
    "dataframe_recal.columns = map(str.lower, dataframe_recal.columns)\n",
    "dataframe_test.columns = map(str.lower, dataframe_test.columns)"
   ]
  },
  {
   "cell_type": "code",
   "execution_count": 22,
   "metadata": {},
   "outputs": [
    {
     "data": {
      "text/plain": [
       "'0.3.13'"
      ]
     },
     "execution_count": 22,
     "metadata": {},
     "output_type": "execute_result"
    }
   ],
   "source": [
    "jax.__version__"
   ]
  },
  {
   "cell_type": "code",
   "execution_count": 23,
   "metadata": {},
   "outputs": [],
   "source": [
    "def load_model(recab):\n",
    "    p=recab['p'].iloc[949]\n",
    "    new_p=recab['new_p_mc'].iloc[949]\n",
    "    ori_std_factor=mass_to_std_factor(p)\n",
    "    new_std_factor=mass_to_std_factor(new_p)\n",
    "    return ori_std_factor,new_std_factor\n",
    "\n",
    "def plot(timestamp, gt, mean, sigma, ori_std_factor, new_std_factor, idx1, idx2, p, p_hat, new_phat):\n",
    "    \n",
    "    fig,(ax1,ax2)=plt.subplots(1,2,sharey='row')\n",
    "    idx = jnp.where(\n",
    "        (gt.values < mean.values + ori_std_factor * sigma.values)\n",
    "        & (gt.values > mean.values - ori_std_factor * sigma.values)\n",
    "    )[0]\n",
    "    print(len(idx))\n",
    "    ax1.plot(timestamp, gt.values, label=\"Ground Truth\")\n",
    "    ax1.plot(timestamp, mean.values, label=\"Mean\",color=\"black\")\n",
    "    ax1.fill_between(\n",
    "        timestamp,\n",
    "        mean.values - ori_std_factor * sigma.values,\n",
    "        mean.values + ori_std_factor * sigma.values,\n",
    "        label=r\"95\\%\",\n",
    "        alpha=0.2,\n",
    "        color=\"C1\"\n",
    "    )\n",
    "    print(idx)\n",
    "    ax1.scatter(timestamp.values[np.array(idx)], gt[jnp.arange(idx1,idx2)[idx]], label=\"Within\", color=\"C1\",s=10)\n",
    "    # ax1.legend(\n",
    "    #     ncol=2,\n",
    "    #     bbox_to_anchor=(1.01, 1.4),\n",
    "    #     fontsize=6\n",
    "    # )\n",
    "    h = ax1.legend([\"Ground\\nTruth\", \"Mean\"], loc=\"upper right\", fontsize=6)\n",
    "\n",
    "    # ax1.add_artist(h)\n",
    "    # red_patch = mpatches.Patch(color='C1',alpha=0.2, label='95\\%')\n",
    "    # nine = mlines.Line2D([], [], color='C1', marker='o', ls='', label='Within', markersize=6)\n",
    "    # h = ax1.legend(handles=[red_patch, nine], loc=\"upper right\", fontsize=6)\n",
    "    # ax1.text(-1,-4,'(b) Before Cal.')\n",
    "\n",
    "    ax1.set_xticks(jnp.arange(0, idx2-idx1, 50), fontsize=2)\n",
    "    ax1.tick_params(axis='x',rotation=60)\n",
    "\n",
    "    \n",
    "    idx = jnp.where(\n",
    "        (gt.values < mean.values + new_std_factor * sigma.values)\n",
    "        & (gt.values > mean.values - new_std_factor * sigma.values)\n",
    "    )[0]\n",
    "    print(len(idx))\n",
    "    ax2.plot(timestamp ,gt.values, label=\"Ground Truth\")\n",
    "    ax2.plot(timestamp, mean.values, label=\"Mean prediction\",color=\"black\")\n",
    "    ax2.fill_between(\n",
    "        timestamp,\n",
    "        mean.values - new_std_factor * sigma.values,\n",
    "        mean.values + new_std_factor * sigma.values,\n",
    "        #label=rf\"{100*mass:0.2f}% CI, $\\mu \\pm {std_factor:0.2f}\\sigma$\",\n",
    "        alpha=0.2,\n",
    "        color=\"C1\"\n",
    "    )\n",
    "    ax2.scatter(timestamp.values[np.array(idx)], gt[jnp.arange(idx1,idx2)[idx]], label=\"Within\", color=\"C1\",s=10)\n",
    "    ax2.set_xticks(jnp.arange(0, idx2-idx1, 50))\n",
    "    ax2.tick_params(axis='x',rotation=60)\n",
    "    red_patch = mpatches.Patch(color='C1',alpha=0.2, label='95\\%')\n",
    "    nine = mlines.Line2D([], [], color='C1', marker='o', ls='', label='Within', markersize=6)\n",
    "    h = ax2.legend(handles=[red_patch, nine], loc=\"upper right\", fontsize=6)\n",
    "\n",
    "    \n",
    "\n",
    "    ax1.set_ylabel('Power (W)')\n",
    "    ax2.set_title(\"\\% of points within CI:84\\%\")\n",
    "    ax1.set_title(\"\\% of points within CI:90\\%\")\n",
    "    ax1.set_xlabel('(a) Before Cal.')\n",
    "    ax2.set_xlabel('(b) After Cal.')\n",
    "    # ax2.text(-1,-4,'(b) After Cal.')\n",
    "    sns.despine()"
   ]
  },
  {
   "cell_type": "code",
   "execution_count": 24,
   "metadata": {},
   "outputs": [
    {
     "name": "stdout",
     "output_type": "stream",
     "text": [
      "239\n",
      "[  1   2   3   4   5   6   7   8   9  10  11  12  13  14  15  16  17  18\n",
      "  19  20  21  22  23  24  25  26  27  28  29  30  31  32  33  34  35  36\n",
      "  37  38  39  40  41  42  43  44  45  46  47  48  49  50  51  52  53  54\n",
      "  55  56  57  58  59  60  61  62  63  64  65  66  67  68  69  70  71  72\n",
      "  73  74  75  76  77  78  79  80  81  82  83  84  85  86  87  90  93  94\n",
      "  95  96  97  99 100 101 103 104 105 106 107 109 110 111 112 113 114 115\n",
      " 116 117 118 119 120 121 122 123 124 125 126 127 128 129 130 131 132 133\n",
      " 134 135 136 137 138 139 140 141 142 143 144 145 146 147 148 149 150 151\n",
      " 152 153 154 155 156 157 158 159 160 161 162 163 164 165 166 167 168 169\n",
      " 170 171 172 173 174 175 176 177 178 179 180 184 185 186 187 188 189 190\n",
      " 191 192 193 194 195 196 197 198 199 200 201 202 203 204 205 206 207 208\n",
      " 209 210 211 212 213 214 215 216 217 218 219 220 221 222 223 224 225 226\n",
      " 227 228 229 230 231 232 233 234 235 236 237 238 239 240 241 242 243 244\n",
      " 245 246 247 248 249]\n"
     ]
    },
    {
     "name": "stderr",
     "output_type": "stream",
     "text": [
      "/tmp/ipykernel_3278566/3710160740.py:41: MatplotlibDeprecationWarning: Support for passing numbers through unit converters is deprecated since 3.5 and support will be removed two minor releases later; use Axis.convert_units instead.\n",
      "  ax1.set_xticks(jnp.arange(0, idx2-idx1, 50), fontsize=2)\n"
     ]
    },
    {
     "name": "stdout",
     "output_type": "stream",
     "text": [
      "216\n"
     ]
    },
    {
     "name": "stderr",
     "output_type": "stream",
     "text": [
      "/tmp/ipykernel_3278566/3710160740.py:61: MatplotlibDeprecationWarning: Support for passing numbers through unit converters is deprecated since 3.5 and support will be removed two minor releases later; use Axis.convert_units instead.\n",
      "  ax2.set_xticks(jnp.arange(0, idx2-idx1, 50))\n"
     ]
    },
    {
     "name": "stdout",
     "output_type": "stream",
     "text": [
      "saving image to FIGURES/badcalnew_latexified.pdf\n",
      "Figure size: [3.88888889 2.33333333]\n"
     ]
    }
   ],
   "source": [
    "recal=dataframe_recal\n",
    "test=dataframe_test\n",
    "idx1=3150\n",
    "idx2=3400\n",
    "\n",
    "timestamp = dataframe_test[\"timestamp\"][idx1:idx2]\n",
    "timestamp = pd.to_datetime(timestamp).dt.strftime('%H:%M')\n",
    "\n",
    "\n",
    "ori_std_factor,new_std_factor=load_model(dataframe_recal)\n",
    "gt=test[\"ground truth\"][idx1:idx2]\n",
    "mean=test[\"mc_mean\"][idx1:idx2]\n",
    "sigma=test[\"mc_sigma\"][idx1:idx2]\n",
    "p,phat,new_phat=recal['p'].values,recal['phat_mc'].values,recal['new_phat_mc'].values\n",
    "plot(timestamp,gt,mean,sigma,ori_std_factor,new_std_factor,idx1,idx2,p,phat,new_phat)\n",
    "savefig('badcalnew',bbox_inches='tight')"
   ]
  },
  {
   "cell_type": "code",
   "execution_count": 25,
   "metadata": {},
   "outputs": [],
   "source": [
    "def format_axes(ax):\n",
    "    # from math import sqrt\n",
    "    SPINE_COLOR = 'gray'\n",
    "    for spine in ['top', 'right']:\n",
    "        ax.spines[spine].set_visible(False)\n",
    "\n",
    "    for spine in ['left', 'bottom']:\n",
    "        ax.spines[spine].set_color(SPINE_COLOR)\n",
    "        ax.spines[spine].set_linewidth(0.5)\n",
    "\n",
    "    ax.xaxis.set_ticks_position('bottom')\n",
    "    # ax.yaxis.set_ticks_position('left')\n",
    "\n",
    "    # for axis in [ax.xaxis, ax.yaxis]:\n",
    "    #     axis.set_tick_params(direction='out', color=SPINE_COLOR)\n",
    "\n",
    "    return ax"
   ]
  },
  {
   "cell_type": "code",
   "execution_count": 26,
   "metadata": {},
   "outputs": [],
   "source": [
    "\n",
    "import matplotlib.pyplot as plt\n",
    "import numpy as np\n",
    "import pandas as pd\n",
    "import matplotlib\n",
    "from math import sqrt\n",
    "SPINE_COLOR = 'gray'\n",
    "def latexify(fig_width=None, fig_height=None, columns=1):\n",
    "    \"\"\"Set up matplotlib's RC params for LaTeX plotting.\n",
    "    Call this before plotting a figure.\n",
    "\n",
    "    Parameters\n",
    "    ----------\n",
    "    fig_width : float, optional, inches\n",
    "    fig_height : float,  optional, inches\n",
    "    columns : {1, 2}\n",
    "    \"\"\"\n",
    "\n",
    "    # code adapted from http://www.scipy.org/Cookbook/Matplotlib/LaTeX_Examples\n",
    "\n",
    "    # Width and max height in inches for IEEE journals taken from\n",
    "    # computer.org/cms/Computer.org/Journal%20templates/transactions_art_guide.pdf\n",
    "\n",
    "    assert(columns in [1,2])\n",
    "\n",
    "    if fig_width is None:\n",
    "        fig_width = 3.39 if columns==1 else 6.9 # width in inches\n",
    "\n",
    "    if fig_height is None:\n",
    "        golden_mean = (sqrt(5)-1.0)/2.0    # Aesthetic ratio\n",
    "        fig_height = fig_width*golden_mean # height in inches\n",
    "\n",
    "    MAX_HEIGHT_INCHES = 8.0\n",
    "    if fig_height > MAX_HEIGHT_INCHES:\n",
    "        print(\"WARNING: fig_height too large:\" + fig_height + \n",
    "              \"so will reduce to\" + MAX_HEIGHT_INCHES + \"inches.\")\n",
    "        fig_height = MAX_HEIGHT_INCHES\n",
    "\n",
    "    params = {'backend': 'ps',\n",
    "              'text.latex.preamble': [r'\\usepackage{gensymb}'],\n",
    "              'axes.labelsize': 8, # fontsize for x and y labels (was 10)\n",
    "              'axes.titlesize': 8,\n",
    "              'font.size': 8, # was 10\n",
    "              'legend.fontsize': 8, # was 10\n",
    "              'xtick.labelsize': 8,\n",
    "              'ytick.labelsize': 8,\n",
    "              'text.usetex': True,\n",
    "              'figure.figsize': [fig_width,fig_height],\n",
    "              'font.family': 'serif'\n",
    "    }\n",
    "\n",
    "    matplotlib.rcParams.update(params)\n",
    "\n",
    "\n",
    "def format_axes(ax):\n",
    "\n",
    "    for spine in ['top', 'right']:\n",
    "        ax.spines[spine].set_visible(False)\n",
    "\n",
    "    for spine in ['left', 'bottom']:\n",
    "        ax.spines[spine].set_color(SPINE_COLOR)\n",
    "        ax.spines[spine].set_linewidth(0.5)\n",
    "\n",
    "    ax.xaxis.set_ticks_position('bottom')\n",
    "    ax.yaxis.set_ticks_position('left')\n",
    "\n",
    "    for axis in [ax.xaxis, ax.yaxis]:\n",
    "        axis.set_tick_params(direction='out', color=SPINE_COLOR)\n",
    "\n",
    "    return ax\n",
    "\n",
    "def legendAsLatex(axes, rotation=90) :\n",
    "    '''Generate a latex code to be used instead of the legend. \n",
    "       Uses the label, color, marker and linestyle provided to the pyplot.plot.\n",
    "       The marker and the linestyle must be defined using the one or two character\n",
    "           abreviations shown in the help of pyplot.plot.\n",
    "       Rotation of the markers must be multiple of 90.\n",
    "    '''\n",
    "    latexLine = {'-':'\\\\textbf{\\Large ---}',\n",
    "        '-.':'\\\\textbf{\\Large --\\:\\!$\\\\boldsymbol{\\cdot}$\\:\\!--}',\n",
    "        '--':'\\\\textbf{\\Large --\\,--}',':':'\\\\textbf{\\Large -\\:\\!-}'}\n",
    "    latexSymbol = {'o':'medbullet', 'd':'diamond', 's':'filledmedsquare',\n",
    "        'D':'Diamondblack', '*':'bigstar', '+':'boldsymbol{\\plus}',\n",
    "        'x':'boldsymbol{\\\\times}', 'p':'pentagon', 'h':'hexagon',\n",
    "        ',':'boldsymbol{\\cdot}', '_':'boldsymbol{\\minus}','<':'LHD',\n",
    "        '>':'RHD','v':'blacktriangledown', '^':'blacktriangle'} \n",
    "    rot90=['^','<','v','>']\n",
    "    di = [0,-1,2,1][rotation%360//90]\n",
    "    latexSymbol.update({rot90[i]:latexSymbol[rot90[(i+di)%4]] for i in range(4)})\n",
    "    return ', '.join(['\\\\textcolor[rgb]{'\\\n",
    "            + ','.join([str(x) for x in cor.to_rgb(handle.get_color())]) +'}{'\n",
    "            + '$\\\\'+latexSymbol.get(handle.get_marker(),';')+'$'\n",
    "            + latexLine.get(handle.get_linestyle(),'') + '} ' + label \n",
    "                for handle,label in zip(*axes.get_legend_handles_labels())])"
   ]
  },
  {
   "cell_type": "code",
   "execution_count": 27,
   "metadata": {},
   "outputs": [
    {
     "name": "stdout",
     "output_type": "stream",
     "text": [
      "saving image to FIGURES/badcal_latexified.pdf\n",
      "Figure size: [3.88888889 2.33333333]\n"
     ]
    }
   ],
   "source": [
    "\n",
    "\n",
    "fig, (a,b)=plt.subplots(1,2,sharey='row')\n",
    "\n",
    "a.plot(p, series_cal.values, label='Uncalibrated', linestyle='dashed')\n",
    "a.plot(p, new_p_hat_cal, label='Calibrated', linestyle='dashed')\n",
    "a.plot([0, 1], [0, 1], label=\"Ideal\",linestyle='dashed')\n",
    "a.set_title(f\"ECE Before cal:{ace(p,series_cal.values):.2f}\\n ECE After cal:{ace(p,new_p_hat_cal):.2f}\")\n",
    "a.set_ylabel('$\\hat{p}$')\n",
    "b.plot(p, series_test.values, label='Uncal.', linestyle='dashed')\n",
    "b.plot(p, new_p_hat_test,label='Cal.', linestyle='dashed')\n",
    "b.plot([0, 1], [0, 1], label=\"Ideal\",linestyle='dashed')\n",
    "b.set_title(f\"ECE Before cal:{ace(p,series_test.values):.2f}\\n ECE After cal:{ace(p,new_p_hat_test):.2f}\")\n",
    "# a.text(0.1,-0.5,'(a) Calibration Set')\n",
    "# b.text(0.3,-0.5,'(b) Test Set')\n",
    "a.set_xlabel('$p$\\n(a) Calibration Set')\n",
    "b.set_xlabel('$p$\\n(b) Test Set')\n",
    "lgd=plt.legend()\n",
    "sns.despine()\n",
    "format_axes(a)\n",
    "format_axes(b)\n",
    "# b.set_yticks([])\n",
    "\n",
    "savefig('badcal',bbox_extra_artists=(lgd,),bbox_inches='tight')"
   ]
  },
  {
   "cell_type": "code",
   "execution_count": null,
   "metadata": {},
   "outputs": [],
   "source": []
  }
 ],
 "metadata": {
  "kernelspec": {
   "display_name": "Python 3.8.10 64-bit",
   "language": "python",
   "name": "python3"
  },
  "language_info": {
   "codemirror_mode": {
    "name": "ipython",
    "version": 3
   },
   "file_extension": ".py",
   "mimetype": "text/x-python",
   "name": "python",
   "nbconvert_exporter": "python",
   "pygments_lexer": "ipython3",
   "version": "3.8.10"
  },
  "orig_nbformat": 4,
  "vscode": {
   "interpreter": {
    "hash": "916dbcbb3f70747c44a77c7bcd40155683ae19c65e1c03b4aa3499c5328201f1"
   }
  }
 },
 "nbformat": 4,
 "nbformat_minor": 2
}
