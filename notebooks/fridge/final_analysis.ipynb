{
 "cells": [
  {
   "cell_type": "markdown",
   "metadata": {},
   "source": [
    "# Importing Libraries and predictions"
   ]
  },
  {
   "cell_type": "code",
   "execution_count": 1,
   "metadata": {},
   "outputs": [],
   "source": [
    "import pandas as pd\n",
    "import matplotlib.pyplot as plt\n",
    "import seaborn as sns\n",
    "import jax.numpy as jnp\n",
    "import os\n",
    "os.chdir('../../')\n",
    "from utilities import plot,errors\n",
    "from datetime import datetime\n",
    "\n",
    "import tensorflow_probability.substrates.jax as tfp\n",
    "import jax.numpy as jnp\n",
    "import jax\n",
    "dist = tfp.distributions\n",
    "from utilities import recalibration\n",
    "import matplotlib.lines as mlines\n",
    "import matplotlib.patches as mpatches"
   ]
  },
  {
   "cell_type": "code",
   "execution_count": 2,
   "metadata": {},
   "outputs": [],
   "source": [
    "from probml_utils import latexify,savefig"
   ]
  },
  {
   "cell_type": "code",
   "execution_count": 3,
   "metadata": {},
   "outputs": [],
   "source": [
    "os.environ['CUDA_VISIBLE_DEVICES']=str(3)"
   ]
  },
  {
   "cell_type": "code",
   "execution_count": 4,
   "metadata": {},
   "outputs": [
    {
     "name": "stdout",
     "output_type": "stream",
     "text": [
      "env: LATEXIFY=1\n",
      "env: FIG_DIR=/home/desai.aadesh/temp/NILM_Uncertainty/figures\n"
     ]
    }
   ],
   "source": [
    "%env LATEXIFY=1\n",
    "%env FIG_DIR=/home/desai.aadesh/temp/NILM_Uncertainty/figures"
   ]
  },
  {
   "cell_type": "code",
   "execution_count": 5,
   "metadata": {},
   "outputs": [],
   "source": [
    "os.chdir('notebooks/fridge')"
   ]
  },
  {
   "cell_type": "code",
   "execution_count": 6,
   "metadata": {},
   "outputs": [],
   "source": [
    "s2p_mlp_training = pd.read_csv('s2p/mlp/training_predictions.csv')\n",
    "s2p_mlp_testing = pd.read_csv('s2p/mlp/testing_predictions.csv')\n",
    "s2p_gmlp_training = pd.read_csv('s2p/gmlp/training_predictions.csv')\n",
    "s2p_gmlp_testing = pd.read_csv('s2p/gmlp/testing_predictions.csv')"
   ]
  },
  {
   "cell_type": "code",
   "execution_count": 7,
   "metadata": {},
   "outputs": [],
   "source": [
    "lstm_mlp_training = pd.read_csv('lstm/mlp/training_predictions.csv')\n",
    "lstm_mlp_testing = pd.read_csv('lstm/mlp/testing_predictions.csv')\n",
    "lstm_gmlp_training = pd.read_csv('lstm/gmlp/training_predictions.csv')\n",
    "lstm_gmlp_testing = pd.read_csv('lstm/gmlp/testing_predictions.csv')"
   ]
  },
  {
   "cell_type": "code",
   "execution_count": 8,
   "metadata": {},
   "outputs": [],
   "source": [
    "s2p_mlp_recal = pd.read_csv('s2p/mlp/recalibration_df.csv')\n",
    "s2p_gmlp_recal = pd.read_csv('s2p/gmlp/recalibration_df.csv')\n",
    "lstm_mlp_recal=pd.read_csv('lstm/mlp/recalibration_df.csv')\n",
    "lstm_gmlp_recal=pd.read_csv('lstm/gmlp/recalibration_df.csv')"
   ]
  },
  {
   "cell_type": "code",
   "execution_count": 9,
   "metadata": {},
   "outputs": [],
   "source": [
    "s2p_mlp_training.columns = map(str.lower, s2p_mlp_training.columns)\n",
    "s2p_mlp_testing.columns = map(str.lower, s2p_mlp_testing.columns)\n",
    "s2p_gmlp_training.columns = map(str.lower, s2p_gmlp_training.columns)\n",
    "s2p_gmlp_testing.columns = map(str.lower, s2p_gmlp_testing.columns)"
   ]
  },
  {
   "cell_type": "code",
   "execution_count": 10,
   "metadata": {},
   "outputs": [],
   "source": [
    "lstm_mlp_training.columns = map(str.lower, lstm_mlp_training.columns)\n",
    "lstm_mlp_testing.columns = map(str.lower, lstm_mlp_testing.columns)\n",
    "lstm_gmlp_training.columns = map(str.lower, lstm_gmlp_training.columns)\n",
    "lstm_gmlp_testing.columns = map(str.lower, lstm_gmlp_testing.columns)"
   ]
  },
  {
   "cell_type": "markdown",
   "metadata": {},
   "source": [
    "# Define Functions"
   ]
  },
  {
   "cell_type": "code",
   "execution_count": 11,
   "metadata": {},
   "outputs": [],
   "source": [
    "\n",
    "def rmse_(dataframe):\n",
    "    def rmse_loss(y,yhat):\n",
    "      return (y-yhat)**2\n",
    "    return jnp.mean(jax.vmap(rmse_loss,in_axes=(0,0))(dataframe['Ideal'].values,dataframe['Counts'].values))\n",
    "def mae_(dataframe):\n",
    "    def mae(y,yhat):\n",
    "      return jnp.abs(y-yhat)\n",
    "    return jnp.mean(jax.vmap(mae,in_axes=(0,0))(dataframe['p'].values,dataframe['p_hat'].values))\n",
    "def mae1(y,yhat):\n",
    "    def mae(y,yhat):\n",
    "      return jnp.abs(y-yhat)\n",
    "    return jnp.mean(jax.vmap(mae,in_axes=(0,0))(y,yhat))\n",
    "def NLL(mean,sigma,y):\n",
    "    def loss_fn(mean, sigma, y):\n",
    "      d = dist.Normal(loc=mean, scale=sigma)\n",
    "      return -d.log_prob(y)\n",
    "    return jnp.mean(jax.vmap(loss_fn, in_axes=(0, 0, 0))(mean, sigma, y))\n",
    "\n",
    "def plot_predictions(y_true,mean,sigma):\n",
    "    idx1 = 0\n",
    "    idx2 = -1\n",
    "    fig, ax = plt.subplots(2, 2, figsize=(18,10))\n",
    "    ax = ax.ravel()\n",
    "    ax[0].plot(y_true[idx1:idx2], label=\"True\")\n",
    "    ax[1].plot(mean[idx1:idx2], label=f\"$\\mu$ Predicted\", color=\"orange\")\n",
    "    ax[2].plot(y_true[idx1:idx2], label=\"True\")\n",
    "    ax[2].plot(mean[idx1:idx2], label=f\"$\\mu$ Predicted\", color=\"orange\")\n",
    "    #ax[3].plot(y_true[idx1:idx2], label=\"True\", alpha=0.7)\n",
    "    ax[3].plot(sigma[idx1:idx2], label=f\"$\\sigma$ Predicted\", color=\"green\")\n",
    "    ax[0].legend(fontsize=15, bbox_to_anchor=(0.5,1))\n",
    "    ax[1].legend(fontsize=15, bbox_to_anchor=(0.5,1))\n",
    "    ax[2].legend(fontsize=15, bbox_to_anchor=(0.5,1))\n",
    "    ax[3].legend(fontsize=15, bbox_to_anchor=(0.5,1))\n",
    "    sns.despine()\n"
   ]
  },
  {
   "cell_type": "code",
   "execution_count": 12,
   "metadata": {},
   "outputs": [],
   "source": [
    "import scipy.stats as st\n",
    "def calibrate(mean, sigma, Y):\n",
    "    df = pd.DataFrame()\n",
    "    df[\"mean\"] = mean\n",
    "    df[\"sigma\"] = sigma\n",
    "    df[\"Y\"] = Y\n",
    "    df[\"z\"] = (df[\"Y\"] - df[\"mean\"]) / df[\"sigma\"]\n",
    "    df[\"perc\"] = st.norm.cdf(df[\"z\"])\n",
    "    k = jnp.arange(0, 1.1, 0.1)\n",
    "    counts = []\n",
    "    df2 = pd.DataFrame()\n",
    "    df2[\"Interval\"] = k\n",
    "    df2[\"Ideal\"] = k\n",
    "    for i in range(0, 11):\n",
    "        l = df[df[\"perc\"] < 0.5 + i * 0.05]\n",
    "        l = l[l[\"perc\"] >= 0.5 - i * 0.05]\n",
    "        counts.append(len(l) / len(df))\n",
    "    df2[\"Counts\"] = counts\n",
    "    return df2"
   ]
  },
  {
   "cell_type": "code",
   "execution_count": 13,
   "metadata": {},
   "outputs": [],
   "source": [
    "def something2(tr_df,te_df,recal_df):\n",
    "    for i,j in zip(grp,grp2):\n",
    "        try:\n",
    "            q = tr_df[i+'sigma']\n",
    "            tr_nll.append(errors.NLL(tr_df[i+'mean'].values,tr_df[i+'sigma'].values,tr_df['ground truth'].values))\n",
    "            te_nll.append(errors.NLL(te_df[i+'mean'].values,te_df[i+'sigma'].values,te_df['ground truth'].values))\n",
    "            df =  recalibration.find_p_hat_(tr_df['ground truth'].values,tr_df[i+'mean'].values,tr_df[i+'sigma'].values) \n",
    "            tr_ce.append(mae_(df))\n",
    "            df1 =  recalibration.find_p_hat_(te_df['ground truth'].values,te_df[i+'mean'].values,te_df[i+'sigma'].values) \n",
    "            te_ce.append(mae_(df1))\n",
    "            te_rce.append(mae1(recal_df['p'].values,recal_df['new_phat'+j].values))\n",
    "            \n",
    "        except KeyError:\n",
    "            # print(KeyError.args)\n",
    "            tr_nll.append(0)\n",
    "            te_nll.append(0)\n",
    "            tr_ce.append(0)\n",
    "            # tr_l2_ce.append(0)\n",
    "            te_ce.append(0)\n",
    "            te_rce.append(0)\n",
    "            # te_l2_ce.append(0)\n",
    "            # pass\n",
    "            \n",
    "\n",
    "def something(tr_df,te_df):\n",
    "    for i in grp:\n",
    "        \n",
    "            tr_rmse.append((errors.rmse(tr_df['ground truth'].values,tr_df[i+'mean'].values)))\n",
    "            te_rmse.append((errors.rmse(te_df['ground truth'].values,te_df[i+'mean'].values)))\n",
    "            tr_mae.append((errors.mae(tr_df['ground truth'].values,tr_df[i+'mean'].values)))\n",
    "            te_mae.append((errors.mae(te_df['ground truth'].values,te_df[i+'mean'].values)))\n",
    "\n"
   ]
  },
  {
   "cell_type": "markdown",
   "metadata": {},
   "source": [
    "# Table"
   ]
  },
  {
   "cell_type": "code",
   "execution_count": 14,
   "metadata": {},
   "outputs": [],
   "source": [
    "metric  =pd.DataFrame({'approach':[],'Tr_mae':[],'Te_mae':[],'Tr_rmse':[],'Te_rmse':[],'Tr_nll':[],'Te_nll':[],\n",
    "'Tr_ce':[],'Te_ce':[],'Te_rce':[]})\n",
    "row1 = {'approach':['s2p','s2p+mc','s2p+de','s2p+bs','gs2p','gs2p+mc','gs2p+de','gs2p+bs',\n",
    "'lstm','lstm+mc','lstm+de','lstm+bs','glstm','glstm+mc','glstm+de','glstm+bs']}\n",
    "grp = ['','mc_','de_','bs_']\n",
    "grp2 = ['','_mc','_de','_bs']\n",
    "tr_rmse,te_rmse = [],[]\n",
    "tr_mae,te_mae = [],[]\n",
    "tr_nll,te_nll = [],[]\n",
    "tr_ce,te_ce,te_rce = [],[],[]\n",
    "row1 = pd.DataFrame(row1)\n",
    "metric = pd.concat([metric,row1],ignore_index=True)\n"
   ]
  },
  {
   "cell_type": "code",
   "execution_count": 15,
   "metadata": {},
   "outputs": [],
   "source": [
    "something(s2p_mlp_training,s2p_mlp_testing)\n",
    "something(s2p_gmlp_training,s2p_gmlp_testing)\n",
    "something(lstm_mlp_training,lstm_mlp_testing)\n",
    "something(lstm_gmlp_training,lstm_gmlp_testing)\n",
    "something2(s2p_mlp_training,s2p_mlp_testing,s2p_mlp_recal)\n",
    "something2(s2p_gmlp_training,s2p_gmlp_testing,s2p_gmlp_recal)\n",
    "something2(lstm_mlp_training,lstm_mlp_testing,lstm_mlp_recal)\n",
    "something2(lstm_gmlp_training,lstm_gmlp_testing,lstm_gmlp_recal)\n",
    "metric['Tr_rmse']=tr_rmse\n",
    "metric['Te_rmse']=te_rmse\n",
    "metric['Tr_mae']=tr_mae\n",
    "metric['Te_mae']=te_mae\n",
    "metric['Tr_nll']=tr_nll\n",
    "metric['Te_nll']=te_nll\n",
    "metric['Tr_ce']=tr_ce\n",
    "metric['Te_ce']=te_ce\t\n",
    "metric['Te_rce']=te_rce\t\n",
    "\t"
   ]
  },
  {
   "cell_type": "code",
   "execution_count": 16,
   "metadata": {},
   "outputs": [
    {
     "data": {
      "text/html": [
       "<div>\n",
       "<style scoped>\n",
       "    .dataframe tbody tr th:only-of-type {\n",
       "        vertical-align: middle;\n",
       "    }\n",
       "\n",
       "    .dataframe tbody tr th {\n",
       "        vertical-align: top;\n",
       "    }\n",
       "\n",
       "    .dataframe thead th {\n",
       "        text-align: right;\n",
       "    }\n",
       "</style>\n",
       "<table border=\"1\" class=\"dataframe\">\n",
       "  <thead>\n",
       "    <tr style=\"text-align: right;\">\n",
       "      <th></th>\n",
       "      <th>approach</th>\n",
       "      <th>Tr_mae</th>\n",
       "      <th>Te_mae</th>\n",
       "      <th>Tr_rmse</th>\n",
       "      <th>Te_rmse</th>\n",
       "      <th>Tr_nll</th>\n",
       "      <th>Te_nll</th>\n",
       "      <th>Tr_ce</th>\n",
       "      <th>Te_ce</th>\n",
       "      <th>Te_rce</th>\n",
       "    </tr>\n",
       "  </thead>\n",
       "  <tbody>\n",
       "    <tr>\n",
       "      <th>0</th>\n",
       "      <td>s2p</td>\n",
       "      <td>4.8054943</td>\n",
       "      <td>26.164503</td>\n",
       "      <td>8.5919</td>\n",
       "      <td>43.143177</td>\n",
       "      <td>0</td>\n",
       "      <td>0</td>\n",
       "      <td>0</td>\n",
       "      <td>0</td>\n",
       "      <td>0</td>\n",
       "    </tr>\n",
       "    <tr>\n",
       "      <th>1</th>\n",
       "      <td>s2p+mc</td>\n",
       "      <td>5.1668887</td>\n",
       "      <td>26.227228</td>\n",
       "      <td>9.046821</td>\n",
       "      <td>43.07109</td>\n",
       "      <td>3.153952</td>\n",
       "      <td>13.689155</td>\n",
       "      <td>0.047423236</td>\n",
       "      <td>0.25023934</td>\n",
       "      <td>0.23015971</td>\n",
       "    </tr>\n",
       "    <tr>\n",
       "      <th>2</th>\n",
       "      <td>s2p+de</td>\n",
       "      <td>2.8739789</td>\n",
       "      <td>24.737679</td>\n",
       "      <td>5.3635015</td>\n",
       "      <td>41.875214</td>\n",
       "      <td>2.6537027</td>\n",
       "      <td>7.348663</td>\n",
       "      <td>0.11994568</td>\n",
       "      <td>0.26162446</td>\n",
       "      <td>0.2797989</td>\n",
       "    </tr>\n",
       "    <tr>\n",
       "      <th>3</th>\n",
       "      <td>s2p+bs</td>\n",
       "      <td>3.7933722</td>\n",
       "      <td>24.694317</td>\n",
       "      <td>8.430231</td>\n",
       "      <td>42.027935</td>\n",
       "      <td>2.4105768</td>\n",
       "      <td>7.17509</td>\n",
       "      <td>0.15569331</td>\n",
       "      <td>0.24817109</td>\n",
       "      <td>0.26319942</td>\n",
       "    </tr>\n",
       "    <tr>\n",
       "      <th>4</th>\n",
       "      <td>gs2p</td>\n",
       "      <td>17.525785</td>\n",
       "      <td>26.912699</td>\n",
       "      <td>36.071484</td>\n",
       "      <td>45.175007</td>\n",
       "      <td>3.804251</td>\n",
       "      <td>4.7252884</td>\n",
       "      <td>0.08186217</td>\n",
       "      <td>0.13121262</td>\n",
       "      <td>0.051826056</td>\n",
       "    </tr>\n",
       "    <tr>\n",
       "      <th>5</th>\n",
       "      <td>gs2p+mc</td>\n",
       "      <td>16.617514</td>\n",
       "      <td>26.384983</td>\n",
       "      <td>36.377296</td>\n",
       "      <td>45.549572</td>\n",
       "      <td>3.4909692</td>\n",
       "      <td>4.472793</td>\n",
       "      <td>0.17656645</td>\n",
       "      <td>0.030515824</td>\n",
       "      <td>0.19356833</td>\n",
       "    </tr>\n",
       "    <tr>\n",
       "      <th>6</th>\n",
       "      <td>gs2p+de</td>\n",
       "      <td>17.288815</td>\n",
       "      <td>26.857754</td>\n",
       "      <td>35.284813</td>\n",
       "      <td>44.9945</td>\n",
       "      <td>3.97309</td>\n",
       "      <td>4.560412</td>\n",
       "      <td>0.05641273</td>\n",
       "      <td>0.041957345</td>\n",
       "      <td>0.031220645</td>\n",
       "    </tr>\n",
       "    <tr>\n",
       "      <th>7</th>\n",
       "      <td>gs2p+bs</td>\n",
       "      <td>16.631302</td>\n",
       "      <td>26.686327</td>\n",
       "      <td>35.799675</td>\n",
       "      <td>45.506626</td>\n",
       "      <td>3.522843</td>\n",
       "      <td>4.351444</td>\n",
       "      <td>0.20181759</td>\n",
       "      <td>0.07404765</td>\n",
       "      <td>0.112423465</td>\n",
       "    </tr>\n",
       "    <tr>\n",
       "      <th>8</th>\n",
       "      <td>lstm</td>\n",
       "      <td>23.134508</td>\n",
       "      <td>36.513454</td>\n",
       "      <td>42.645927</td>\n",
       "      <td>55.227486</td>\n",
       "      <td>0</td>\n",
       "      <td>0</td>\n",
       "      <td>0</td>\n",
       "      <td>0</td>\n",
       "      <td>0</td>\n",
       "    </tr>\n",
       "    <tr>\n",
       "      <th>9</th>\n",
       "      <td>lstm+mc</td>\n",
       "      <td>23.192966</td>\n",
       "      <td>36.57022</td>\n",
       "      <td>42.655743</td>\n",
       "      <td>55.22891</td>\n",
       "      <td>92.57637</td>\n",
       "      <td>170.37943</td>\n",
       "      <td>0.2947154</td>\n",
       "      <td>0.33864918</td>\n",
       "      <td>0.19476894</td>\n",
       "    </tr>\n",
       "    <tr>\n",
       "      <th>10</th>\n",
       "      <td>lstm+de</td>\n",
       "      <td>22.007631</td>\n",
       "      <td>37.05634</td>\n",
       "      <td>41.764828</td>\n",
       "      <td>55.47167</td>\n",
       "      <td>12.010039</td>\n",
       "      <td>21.155054</td>\n",
       "      <td>0.21310852</td>\n",
       "      <td>0.3998435</td>\n",
       "      <td>0.25225744</td>\n",
       "    </tr>\n",
       "    <tr>\n",
       "      <th>11</th>\n",
       "      <td>lstm+bs</td>\n",
       "      <td>21.103458</td>\n",
       "      <td>36.662773</td>\n",
       "      <td>40.120842</td>\n",
       "      <td>54.815605</td>\n",
       "      <td>7.2578306</td>\n",
       "      <td>12.094858</td>\n",
       "      <td>0.11973445</td>\n",
       "      <td>0.37510183</td>\n",
       "      <td>0.23982792</td>\n",
       "    </tr>\n",
       "    <tr>\n",
       "      <th>12</th>\n",
       "      <td>glstm</td>\n",
       "      <td>29.48595</td>\n",
       "      <td>32.809418</td>\n",
       "      <td>51.55746</td>\n",
       "      <td>49.349064</td>\n",
       "      <td>4.1150274</td>\n",
       "      <td>4.9264507</td>\n",
       "      <td>0.0643848</td>\n",
       "      <td>0.062086463</td>\n",
       "      <td>0.07348731</td>\n",
       "    </tr>\n",
       "    <tr>\n",
       "      <th>13</th>\n",
       "      <td>glstm+mc</td>\n",
       "      <td>29.522074</td>\n",
       "      <td>32.83191</td>\n",
       "      <td>51.56732</td>\n",
       "      <td>49.35257</td>\n",
       "      <td>4.169528</td>\n",
       "      <td>4.90608</td>\n",
       "      <td>0.06411348</td>\n",
       "      <td>0.07438498</td>\n",
       "      <td>0.042779956</td>\n",
       "    </tr>\n",
       "    <tr>\n",
       "      <th>14</th>\n",
       "      <td>glstm+de</td>\n",
       "      <td>29.103811</td>\n",
       "      <td>33.38019</td>\n",
       "      <td>51.183254</td>\n",
       "      <td>49.844738</td>\n",
       "      <td>4.0540743</td>\n",
       "      <td>5.0044675</td>\n",
       "      <td>0.0650627</td>\n",
       "      <td>0.083330505</td>\n",
       "      <td>0.06488276</td>\n",
       "    </tr>\n",
       "    <tr>\n",
       "      <th>15</th>\n",
       "      <td>glstm+bs</td>\n",
       "      <td>30.6869</td>\n",
       "      <td>33.161007</td>\n",
       "      <td>53.534576</td>\n",
       "      <td>50.959538</td>\n",
       "      <td>3.998945</td>\n",
       "      <td>4.984535</td>\n",
       "      <td>0.111126825</td>\n",
       "      <td>0.09349767</td>\n",
       "      <td>0.025054956</td>\n",
       "    </tr>\n",
       "  </tbody>\n",
       "</table>\n",
       "</div>"
      ],
      "text/plain": [
       "    approach     Tr_mae     Te_mae    Tr_rmse    Te_rmse     Tr_nll  \\\n",
       "0        s2p  4.8054943  26.164503     8.5919  43.143177          0   \n",
       "1     s2p+mc  5.1668887  26.227228   9.046821   43.07109   3.153952   \n",
       "2     s2p+de  2.8739789  24.737679  5.3635015  41.875214  2.6537027   \n",
       "3     s2p+bs  3.7933722  24.694317   8.430231  42.027935  2.4105768   \n",
       "4       gs2p  17.525785  26.912699  36.071484  45.175007   3.804251   \n",
       "5    gs2p+mc  16.617514  26.384983  36.377296  45.549572  3.4909692   \n",
       "6    gs2p+de  17.288815  26.857754  35.284813    44.9945    3.97309   \n",
       "7    gs2p+bs  16.631302  26.686327  35.799675  45.506626   3.522843   \n",
       "8       lstm  23.134508  36.513454  42.645927  55.227486          0   \n",
       "9    lstm+mc  23.192966   36.57022  42.655743   55.22891   92.57637   \n",
       "10   lstm+de  22.007631   37.05634  41.764828   55.47167  12.010039   \n",
       "11   lstm+bs  21.103458  36.662773  40.120842  54.815605  7.2578306   \n",
       "12     glstm   29.48595  32.809418   51.55746  49.349064  4.1150274   \n",
       "13  glstm+mc  29.522074   32.83191   51.56732   49.35257   4.169528   \n",
       "14  glstm+de  29.103811   33.38019  51.183254  49.844738  4.0540743   \n",
       "15  glstm+bs    30.6869  33.161007  53.534576  50.959538   3.998945   \n",
       "\n",
       "       Te_nll        Tr_ce        Te_ce       Te_rce  \n",
       "0           0            0            0            0  \n",
       "1   13.689155  0.047423236   0.25023934   0.23015971  \n",
       "2    7.348663   0.11994568   0.26162446    0.2797989  \n",
       "3     7.17509   0.15569331   0.24817109   0.26319942  \n",
       "4   4.7252884   0.08186217   0.13121262  0.051826056  \n",
       "5    4.472793   0.17656645  0.030515824   0.19356833  \n",
       "6    4.560412   0.05641273  0.041957345  0.031220645  \n",
       "7    4.351444   0.20181759   0.07404765  0.112423465  \n",
       "8           0            0            0            0  \n",
       "9   170.37943    0.2947154   0.33864918   0.19476894  \n",
       "10  21.155054   0.21310852    0.3998435   0.25225744  \n",
       "11  12.094858   0.11973445   0.37510183   0.23982792  \n",
       "12  4.9264507    0.0643848  0.062086463   0.07348731  \n",
       "13    4.90608   0.06411348   0.07438498  0.042779956  \n",
       "14  5.0044675    0.0650627  0.083330505   0.06488276  \n",
       "15   4.984535  0.111126825   0.09349767  0.025054956  "
      ]
     },
     "execution_count": 16,
     "metadata": {},
     "output_type": "execute_result"
    }
   ],
   "source": [
    "metric"
   ]
  },
  {
   "cell_type": "markdown",
   "metadata": {},
   "source": [
    "# Analysis"
   ]
  },
  {
   "cell_type": "code",
   "execution_count": 17,
   "metadata": {},
   "outputs": [
    {
     "data": {
      "image/png": "[encoded data removed]",
      "text/plain": [
       "<Figure size 432x288 with 1 Axes>"
      ]
     },
     "metadata": {
      "needs_background": "light"
     },
     "output_type": "display_data"
    }
   ],
   "source": [
    "plt.bar(metric['approach'],metric['Te_mae'])\n",
    "# plt.bar(metric['approach'],metric['Te_l1_ce'])\n",
    "plt.xticks(rotation=90)\n",
    "sns.despine()"
   ]
  },
  {
   "cell_type": "code",
   "execution_count": 18,
   "metadata": {},
   "outputs": [
    {
     "data": {
      "image/png": "[encoded data removed]",
      "text/plain": [
       "<Figure size 432x288 with 1 Axes>"
      ]
     },
     "metadata": {
      "needs_background": "light"
     },
     "output_type": "display_data"
    }
   ],
   "source": [
    "plt.bar(metric['approach'],metric['Te_ce'])\n",
    "plt.xticks(rotation=90)\n",
    "sns.despine()"
   ]
  },
  {
   "cell_type": "markdown",
   "metadata": {},
   "source": [
    "MAE = s2p_mlp_testing bs \\\n",
    "TRADEOFF = lstm_gmlp_testing bs \\\n",
    "ECE = lstm_gmlp_testing simple "
   ]
  },
  {
   "cell_type": "code",
   "execution_count": 47,
   "metadata": {},
   "outputs": [],
   "source": [
    "idx1=4750\n",
    "idx2=5000"
   ]
  },
  {
   "cell_type": "code",
   "execution_count": 48,
   "metadata": {},
   "outputs": [],
   "source": [
    "timestamp = s2p_gmlp_testing[\"timestamp\"][idx1:idx2]"
   ]
  },
  {
   "cell_type": "code",
   "execution_count": 49,
   "metadata": {},
   "outputs": [],
   "source": [
    "timestamp = pd.to_datetime(timestamp).dt.strftime('%H:%M')"
   ]
  },
  {
   "cell_type": "code",
   "execution_count": 50,
   "metadata": {},
   "outputs": [],
   "source": [
    "def plot_figure(ax, y, mean, sigma, title):\n",
    "    ax.plot(timestamp, y[idx1:idx2], label=\"Y\")\n",
    "    ax.plot(timestamp, mean[idx1:idx2], label=\"Mean\")\n",
    "    ax.plot(timestamp, sigma[idx1:idx2], label=\"Sigma\")\n",
    "    ax.set_xticks(jnp.arange(0, idx2-idx1, 30), fontsize=2)\n",
    "    ax.tick_params(axis='x',rotation=60)\n",
    "    error = errors.mae(y.values, mean.values)\n",
    "    df = recalibration.find_p_hat_(y, mean, sigma)\n",
    "    ax.set_title(f'{title} \\nMAE = {error:.2f}, ECE = {mae_(df):.2f}\\n')\n"
   ]
  },
  {
   "cell_type": "code",
   "execution_count": 51,
   "metadata": {},
   "outputs": [],
   "source": [
    "def plot_callibration(ax, y, mean, sigma):\n",
    "    off_idx = y <= 50\n",
    "    on_idx = y > 50\n",
    "    off_truth, off_mean, off_sigma = y[off_idx], mean[off_idx], sigma[off_idx]\n",
    "    on_truth, on_mean, on_sigma = y[on_idx], mean[on_idx], sigma[on_idx]\n",
    "\n",
    "    df = recalibration.find_p_hat_(y, mean, sigma)\n",
    "    ax.plot(df[\"p\"], df[\"p_hat\"], \"--\", label=\"Total\")\n",
    "    total_error = mae_(df)\n",
    "\n",
    "    df = recalibration.find_p_hat_(off_truth,  off_mean, off_sigma)\n",
    "    ax.plot(df[\"p\"], df[\"p_hat\"], \"--\", label=\"Off\")\n",
    "    off_error = mae_(df)\n",
    "\n",
    "    df = recalibration.find_p_hat_(on_truth,  on_mean, on_sigma)\n",
    "    ax.plot(df[\"p\"], df[\"p_hat\"], \"--\", label=\"On\")\n",
    "    on_error = mae_(df)\n",
    "\n",
    "    ax.plot([0,1],[0,1], \"--\", color=\"black\", label=\"Ideal\")\n",
    "    ax.set_title(f'\\nOn ECE = {on_error:.4f}\\nOff ECE = {off_error:.4f}')\n",
    "\n",
    "    ax.set_xlabel(\"p\")"
   ]
  },
  {
   "cell_type": "code",
   "execution_count": 52,
   "metadata": {},
   "outputs": [],
   "source": [
    "latexify(fig_width=6.6,fig_height=4)"
   ]
  },
  {
   "cell_type": "code",
   "execution_count": 66,
   "metadata": {},
   "outputs": [
    {
     "name": "stderr",
     "output_type": "stream",
     "text": [
      "/tmp/ipykernel_3304233/3092381846.py:5: MatplotlibDeprecationWarning: Support for passing numbers through unit converters is deprecated since 3.5 and support will be removed two minor releases later; use Axis.convert_units instead.\n",
      "  ax.set_xticks(jnp.arange(0, idx2-idx1, 30), fontsize=2)\n",
      "/tmp/ipykernel_3304233/3092381846.py:5: MatplotlibDeprecationWarning: Support for passing numbers through unit converters is deprecated since 3.5 and support will be removed two minor releases later; use Axis.convert_units instead.\n",
      "  ax.set_xticks(jnp.arange(0, idx2-idx1, 30), fontsize=2)\n",
      "/tmp/ipykernel_3304233/3092381846.py:5: MatplotlibDeprecationWarning: Support for passing numbers through unit converters is deprecated since 3.5 and support will be removed two minor releases later; use Axis.convert_units instead.\n",
      "  ax.set_xticks(jnp.arange(0, idx2-idx1, 30), fontsize=2)\n"
     ]
    },
    {
     "name": "stdout",
     "output_type": "stream",
     "text": [
      "saving image to /home/desai.aadesh/temp/NILM_Uncertainty/figures/best_error_fridge_latexified.pdf\n",
      "Figure size: [6.6 4. ]\n"
     ]
    },
    {
     "data": {
      "text/plain": [
       "<Figure size 475.2x288 with 0 Axes>"
      ]
     },
     "metadata": {},
     "output_type": "display_data"
    },
    {
     "data": {
      "image/png": "[encoded data removed]",
      "text/plain": [
       "<Figure size 475.2x288 with 6 Axes>"
      ]
     },
     "metadata": {
      "needs_background": "light"
     },
     "output_type": "display_data"
    }
   ],
   "source": [
    "plt.figure()\n",
    "fig, ax = plt.subplots(2, 3, sharey=\"row\")\n",
    "\n",
    "plot_figure(ax[0,0], s2p_mlp_testing[\"ground truth\"], s2p_mlp_testing[\"bs_mean\"], \n",
    "            s2p_mlp_testing[\"bs_sigma\"], \"Homo S2P BS\")\n",
    "plot_figure(ax[0,1], lstm_gmlp_testing[\"ground truth\"], lstm_gmlp_testing[\"de_mean\"], \n",
    "            lstm_gmlp_testing[\"de_sigma\"], \"Hetero LSTM DE\")\n",
    "plot_figure(ax[0,2], lstm_gmlp_testing[\"ground truth\"], lstm_gmlp_testing[\"mean\"], \n",
    "            lstm_gmlp_testing[\"sigma\"], \"Hetero LSTM NN\")\n",
    "\n",
    "plot_callibration(ax[1,0], s2p_mlp_testing[\"ground truth\"], s2p_mlp_testing[\"bs_mean\"], \n",
    "                  s2p_mlp_testing[\"bs_sigma\"])\n",
    "plot_callibration(ax[1,1], lstm_gmlp_testing[\"ground truth\"], lstm_gmlp_testing[\"de_mean\"], \n",
    "                  lstm_gmlp_testing[\"de_sigma\"])\n",
    "plot_callibration(ax[1,2], lstm_gmlp_testing[\"ground truth\"], lstm_gmlp_testing[\"mean\"], \n",
    "                  lstm_gmlp_testing[\"sigma\"])\n",
    "\n",
    "\n",
    "ax[0,0].legend([\"Ground Truth\"], loc=\"upper center\", bbox_to_anchor=(0.5,1.2), fontsize=6)\n",
    "line = mlines.Line2D([], [], color='C1', marker=\"_\", ls='', label='Mean', markersize=13,\n",
    "                    markeredgewidth=1.5)\n",
    "ax[0,1].legend(handles=[line], loc=\"upper center\", bbox_to_anchor=(0.5,1.2), fontsize=6)\n",
    "line = mlines.Line2D([], [], color='green', marker=\"_\", ls='', label='Sigma', markersize=13,\n",
    "                    markeredgewidth=1.5)\n",
    "ax[0,2].legend(handles=[line], loc=\"upper center\", bbox_to_anchor=(0.5,1.2), fontsize=6)\n",
    "\n",
    "ax[0,0].set_xlabel(\"(a)\")\n",
    "ax[0,1].set_xlabel(\"(b)\")\n",
    "ax[0,2].set_xlabel(\"(c)\")\n",
    "ax[1,0].set_xlabel(\"p\\n(d)\")\n",
    "ax[1,1].set_xlabel(\"p\\n(e)\")\n",
    "ax[1,2].set_xlabel(\"p\\n(f)\")\n",
    "\n",
    "ax[1,0].legend(fontsize=5, loc=\"upper left\")\n",
    "ax[0,0].set_ylabel(\"Power (W)\")\n",
    "ax[1,0].set_ylabel(\"$\\hat{p}$\")\n",
    "sns.despine()\n",
    "savefig(\"best_error_fridge\")"
   ]
  },
  {
   "cell_type": "code",
   "execution_count": null,
   "metadata": {},
   "outputs": [],
   "source": []
  }
 ],
 "metadata": {
  "kernelspec": {
   "display_name": "Python 3.8.10 64-bit",
   "language": "python",
   "name": "python3"
  },
  "language_info": {
   "codemirror_mode": {
    "name": "ipython",
    "version": 3
   },
   "file_extension": ".py",
   "mimetype": "text/x-python",
   "name": "python",
   "nbconvert_exporter": "python",
   "pygments_lexer": "ipython3",
   "version": "3.8.10"
  },
  "orig_nbformat": 4,
  "vscode": {
   "interpreter": {
    "hash": "916dbcbb3f70747c44a77c7bcd40155683ae19c65e1c03b4aa3499c5328201f1"
   }
  }
 },
 "nbformat": 4,
 "nbformat_minor": 2
}
