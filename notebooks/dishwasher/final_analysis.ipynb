{
 "cells": [
  {
   "cell_type": "markdown",
   "metadata": {},
   "source": [
    "# Importing Libraries and predictions"
   ]
  },
  {
   "cell_type": "code",
   "execution_count": 1,
   "metadata": {},
   "outputs": [],
   "source": [
    "import pandas as pd\n",
    "import matplotlib.pyplot as plt\n",
    "import seaborn as sns\n",
    "import jax.numpy as jnp\n",
    "import os\n",
    "os.chdir('../../')\n",
    "from utilities import plot,errors\n",
    "from datetime import datetime\n",
    "\n",
    "import tensorflow_probability.substrates.jax as tfp\n",
    "import jax.numpy as jnp\n",
    "import jax\n",
    "dist = tfp.distributions\n",
    "from utilities import recalibration\n",
    "import matplotlib.lines as mlines\n",
    "import matplotlib.patches as mpatches"
   ]
  },
  {
   "cell_type": "code",
   "execution_count": 2,
   "metadata": {},
   "outputs": [],
   "source": [
    "from probml_utils import latexify,savefig, is_latexify_enabled"
   ]
  },
  {
   "cell_type": "code",
   "execution_count": 3,
   "metadata": {},
   "outputs": [],
   "source": [
    "os.environ['CUDA_VISIBLE_DEVICES']=str(3)"
   ]
  },
  {
   "cell_type": "code",
   "execution_count": 4,
   "metadata": {},
   "outputs": [
    {
     "name": "stdout",
     "output_type": "stream",
     "text": [
      "env: LATEXIFY=1\n",
      "env: FIG_DIR=/home/desai.aadesh/temp/NILM_Uncertainty/figures\n"
     ]
    }
   ],
   "source": [
    "%env LATEXIFY=1\n",
    "%env FIG_DIR=/home/desai.aadesh/temp/NILM_Uncertainty/figures"
   ]
  },
  {
   "cell_type": "code",
   "execution_count": 5,
   "metadata": {},
   "outputs": [],
   "source": [
    "os.chdir('notebooks/dishwasher')"
   ]
  },
  {
   "cell_type": "code",
   "execution_count": 6,
   "metadata": {},
   "outputs": [],
   "source": [
    "s2p_mlp_training = pd.read_csv('s2p/mlp/training_predictions.csv')\n",
    "s2p_mlp_testing = pd.read_csv('s2p/mlp/testing_predictions.csv')\n",
    "s2p_gmlp_training = pd.read_csv('s2p/gmlp/training_predictions.csv')\n",
    "s2p_gmlp_testing = pd.read_csv('s2p/gmlp/testing_predictions.csv')"
   ]
  },
  {
   "cell_type": "code",
   "execution_count": 7,
   "metadata": {},
   "outputs": [],
   "source": [
    "lstm_mlp_training = pd.read_csv('lstm/mlp/training_predictions.csv')\n",
    "lstm_mlp_testing = pd.read_csv('lstm/mlp/testing_predictions.csv')\n",
    "lstm_gmlp_training = pd.read_csv('lstm/gmlp/training_predictions.csv')\n",
    "lstm_gmlp_testing = pd.read_csv('lstm/gmlp/testing_predictions.csv')"
   ]
  },
  {
   "cell_type": "code",
   "execution_count": 8,
   "metadata": {},
   "outputs": [],
   "source": [
    "s2p_mlp_recal = pd.read_csv('s2p/mlp/recalibration_df.csv')\n",
    "s2p_gmlp_recal = pd.read_csv('s2p/gmlp/recalibration_df.csv')\n",
    "lstm_mlp_recal=pd.read_csv('lstm/mlp/recalibration_df.csv')\n",
    "lstm_gmlp_recal=pd.read_csv('lstm/gmlp/recalibration_df.csv')"
   ]
  },
  {
   "cell_type": "code",
   "execution_count": 9,
   "metadata": {},
   "outputs": [],
   "source": [
    "s2p_mlp_training.columns = map(str.lower, s2p_mlp_training.columns)\n",
    "s2p_mlp_testing.columns = map(str.lower, s2p_mlp_testing.columns)\n",
    "s2p_gmlp_training.columns = map(str.lower, s2p_gmlp_training.columns)\n",
    "s2p_gmlp_testing.columns = map(str.lower, s2p_gmlp_testing.columns)"
   ]
  },
  {
   "cell_type": "code",
   "execution_count": 10,
   "metadata": {},
   "outputs": [],
   "source": [
    "lstm_mlp_training.columns = map(str.lower, lstm_mlp_training.columns)\n",
    "lstm_mlp_testing.columns = map(str.lower, lstm_mlp_testing.columns)\n",
    "lstm_gmlp_training.columns = map(str.lower, lstm_gmlp_training.columns)\n",
    "lstm_gmlp_testing.columns = map(str.lower, lstm_gmlp_testing.columns)"
   ]
  },
  {
   "cell_type": "code",
   "execution_count": 11,
   "metadata": {},
   "outputs": [
    {
     "data": {
      "text/html": [
       "<div>\n",
       "<style scoped>\n",
       "    .dataframe tbody tr th:only-of-type {\n",
       "        vertical-align: middle;\n",
       "    }\n",
       "\n",
       "    .dataframe tbody tr th {\n",
       "        vertical-align: top;\n",
       "    }\n",
       "\n",
       "    .dataframe thead th {\n",
       "        text-align: right;\n",
       "    }\n",
       "</style>\n",
       "<table border=\"1\" class=\"dataframe\">\n",
       "  <thead>\n",
       "    <tr style=\"text-align: right;\">\n",
       "      <th></th>\n",
       "      <th>timestamp</th>\n",
       "      <th>ground truth</th>\n",
       "      <th>mean</th>\n",
       "      <th>mc_mean</th>\n",
       "      <th>mc_sigma</th>\n",
       "      <th>de_mean</th>\n",
       "      <th>de_sigma</th>\n",
       "      <th>bs_mean</th>\n",
       "      <th>bs_sigma</th>\n",
       "    </tr>\n",
       "  </thead>\n",
       "  <tbody>\n",
       "    <tr>\n",
       "      <th>0</th>\n",
       "      <td>2011-04-21 00:00:00-04:00</td>\n",
       "      <td>0.1250</td>\n",
       "      <td>8.150970</td>\n",
       "      <td>8.674476</td>\n",
       "      <td>0.541819</td>\n",
       "      <td>4.956738</td>\n",
       "      <td>2.725016</td>\n",
       "      <td>4.561386</td>\n",
       "      <td>3.794790</td>\n",
       "    </tr>\n",
       "    <tr>\n",
       "      <th>1</th>\n",
       "      <td>2011-04-21 00:01:00-04:00</td>\n",
       "      <td>0.1250</td>\n",
       "      <td>8.072636</td>\n",
       "      <td>8.755232</td>\n",
       "      <td>1.382341</td>\n",
       "      <td>4.860297</td>\n",
       "      <td>2.719957</td>\n",
       "      <td>4.470869</td>\n",
       "      <td>3.782062</td>\n",
       "    </tr>\n",
       "    <tr>\n",
       "      <th>2</th>\n",
       "      <td>2011-04-21 00:02:00-04:00</td>\n",
       "      <td>0.1250</td>\n",
       "      <td>7.985378</td>\n",
       "      <td>8.133344</td>\n",
       "      <td>1.554992</td>\n",
       "      <td>4.763817</td>\n",
       "      <td>2.713866</td>\n",
       "      <td>4.373968</td>\n",
       "      <td>3.766174</td>\n",
       "    </tr>\n",
       "    <tr>\n",
       "      <th>3</th>\n",
       "      <td>2011-04-21 00:03:00-04:00</td>\n",
       "      <td>0.0625</td>\n",
       "      <td>7.898744</td>\n",
       "      <td>7.303655</td>\n",
       "      <td>0.937014</td>\n",
       "      <td>4.661929</td>\n",
       "      <td>2.709787</td>\n",
       "      <td>4.277756</td>\n",
       "      <td>3.752521</td>\n",
       "    </tr>\n",
       "    <tr>\n",
       "      <th>4</th>\n",
       "      <td>2011-04-21 00:04:00-04:00</td>\n",
       "      <td>0.1250</td>\n",
       "      <td>7.804599</td>\n",
       "      <td>7.302094</td>\n",
       "      <td>0.823760</td>\n",
       "      <td>4.558229</td>\n",
       "      <td>2.709300</td>\n",
       "      <td>4.174093</td>\n",
       "      <td>3.737651</td>\n",
       "    </tr>\n",
       "  </tbody>\n",
       "</table>\n",
       "</div>"
      ],
      "text/plain": [
       "                   timestamp  ground truth      mean   mc_mean  mc_sigma  \\\n",
       "0  2011-04-21 00:00:00-04:00        0.1250  8.150970  8.674476  0.541819   \n",
       "1  2011-04-21 00:01:00-04:00        0.1250  8.072636  8.755232  1.382341   \n",
       "2  2011-04-21 00:02:00-04:00        0.1250  7.985378  8.133344  1.554992   \n",
       "3  2011-04-21 00:03:00-04:00        0.0625  7.898744  7.303655  0.937014   \n",
       "4  2011-04-21 00:04:00-04:00        0.1250  7.804599  7.302094  0.823760   \n",
       "\n",
       "    de_mean  de_sigma   bs_mean  bs_sigma  \n",
       "0  4.956738  2.725016  4.561386  3.794790  \n",
       "1  4.860297  2.719957  4.470869  3.782062  \n",
       "2  4.763817  2.713866  4.373968  3.766174  \n",
       "3  4.661929  2.709787  4.277756  3.752521  \n",
       "4  4.558229  2.709300  4.174093  3.737651  "
      ]
     },
     "execution_count": 11,
     "metadata": {},
     "output_type": "execute_result"
    }
   ],
   "source": [
    "lstm_mlp_testing.head()"
   ]
  },
  {
   "cell_type": "code",
   "execution_count": 12,
   "metadata": {},
   "outputs": [],
   "source": [
    "timestamp = lstm_mlp_testing[\"timestamp\"]\n",
    "timestamp = pd.to_datetime(timestamp).dt.strftime('%H:%M')"
   ]
  },
  {
   "cell_type": "code",
   "execution_count": 13,
   "metadata": {},
   "outputs": [],
   "source": [
    "latexify(fig_height=1.5, fig_width=3.3)"
   ]
  },
  {
   "cell_type": "code",
   "execution_count": 14,
   "metadata": {},
   "outputs": [
    {
     "name": "stdout",
     "output_type": "stream",
     "text": [
      "saving image to /home/desai.aadesh/temp/NILM_Uncertainty/figures/dishwasher_lstm_de_mean_latexified.pdf\n",
      "Figure size: [3.3 1.5]\n"
     ]
    }
   ],
   "source": [
    "fig, ax = plt.subplots(1)\n",
    "ax.plot(lstm_mlp_testing[\"ground truth\"], alpha=0.5,label=\"Ground\\nTruth\")\n",
    "ax.plot(lstm_mlp_testing[\"de_mean\"], label=\"Mean\\npredicted\")\n",
    "\n",
    "ax.set_xticks(jnp.arange(0, len(timestamp), 2000), labels=timestamp.values[::2000])\n",
    "ax.tick_params(axis='both',rotation=90)\n",
    "ax.set_ylabel(\"Watt\")\n",
    "ax.legend(fontsize=5, bbox_to_anchor=(0.6, 1))\n",
    "sns.despine()\n",
    "savefig(\"dishwasher_lstm_de_mean\")"
   ]
  },
  {
   "cell_type": "code",
   "execution_count": 15,
   "metadata": {},
   "outputs": [
    {
     "name": "stdout",
     "output_type": "stream",
     "text": [
      "saving image to /home/desai.aadesh/temp/NILM_Uncertainty/figures/dishwasher_lstm_de_sigma_latexified.pdf\n",
      "Figure size: [3.3 1.5]\n"
     ]
    }
   ],
   "source": [
    "fig, ax = plt.subplots(1)\n",
    "ax.plot(lstm_mlp_testing[\"ground truth\"],alpha=0.5, label=\"Ground\\nTruth\")\n",
    "ax.plot(lstm_mlp_testing[\"de_mean\"], label=\"Mean\\npredicted\")\n",
    "ax.plot(lstm_mlp_testing[\"de_sigma\"], color=\"green\", label=\"Sigma\\npredicted\")\n",
    "\n",
    "ax.set_xticks(jnp.arange(0, len(timestamp), 2000), labels=timestamp.values[::2000])\n",
    "ax.tick_params(axis='both',rotation=90)\n",
    "ax.set_ylabel(\"Watt\")\n",
    "ax.legend(fontsize=5, bbox_to_anchor=(0.6, 1))\n",
    "sns.despine()\n",
    "savefig(\"dishwasher_lstm_de_sigma\")"
   ]
  },
  {
   "cell_type": "code",
   "execution_count": 16,
   "metadata": {},
   "outputs": [
    {
     "name": "stdout",
     "output_type": "stream",
     "text": [
      "saving image to /home/desai.aadesh/temp/NILM_Uncertainty/figures/dishwasher_lstm_de_sigma_latexified.pdf\n",
      "Figure size: [3.3 1.5]\n"
     ]
    }
   ],
   "source": [
    "fig, ax = plt.subplots(1)\n",
    "ax.plot(lstm_mlp_testing[\"ground truth\"],alpha=0.5, label=\"Ground\\nTruth\")\n",
    "ax.plot(lstm_mlp_testing[\"de_sigma\"], color=\"green\", label=\"Sigma\\npredicted\")\n",
    "\n",
    "ax.set_xticks(jnp.arange(0, len(timestamp), 2000), labels=timestamp.values[::2000])\n",
    "ax.tick_params(axis='both',rotation=90)\n",
    "ax.set_ylabel(\"Watt\")\n",
    "ax.legend(fontsize=5, bbox_to_anchor=(0.6, 1))\n",
    "sns.despine()\n",
    "savefig(\"dishwasher_lstm_de_sigma\")"
   ]
  },
  {
   "cell_type": "code",
   "execution_count": null,
   "metadata": {},
   "outputs": [],
   "source": []
  },
  {
   "cell_type": "markdown",
   "metadata": {},
   "source": [
    "# Define Functions"
   ]
  },
  {
   "cell_type": "code",
   "execution_count": 17,
   "metadata": {},
   "outputs": [],
   "source": [
    "\n",
    "def rmse_(dataframe):\n",
    "    def rmse_loss(y,yhat):\n",
    "      return (y-yhat)**2\n",
    "    return jnp.mean(jax.vmap(rmse_loss,in_axes=(0,0))(dataframe['Ideal'].values,dataframe['Counts'].values))\n",
    "def mae_(dataframe):\n",
    "    def mae(y,yhat):\n",
    "      return jnp.abs(y-yhat)\n",
    "    return jnp.mean(jax.vmap(mae,in_axes=(0,0))(dataframe['p'].values,dataframe['p_hat'].values))\n",
    "def mae1(y,yhat):\n",
    "    def mae(y,yhat):\n",
    "      return jnp.abs(y-yhat)\n",
    "    return jnp.mean(jax.vmap(mae,in_axes=(0,0))(y,yhat))\n",
    "def NLL(mean,sigma,y):\n",
    "    def loss_fn(mean, sigma, y):\n",
    "      d = dist.Normal(loc=mean, scale=sigma)\n",
    "      return -d.log_prob(y)\n",
    "    return jnp.mean(jax.vmap(loss_fn, in_axes=(0, 0, 0))(mean, sigma, y))\n",
    "\n",
    "def plot_predictions(y_true,mean,sigma):\n",
    "    idx1 = 0\n",
    "    idx2 = -1\n",
    "    fig, ax = plt.subplots(2, 2, figsize=(18,10))\n",
    "    ax = ax.ravel()\n",
    "    ax[0].plot(y_true[idx1:idx2], label=\"True\")\n",
    "    ax[1].plot(mean[idx1:idx2], label=f\"$\\mu$ Predicted\", color=\"orange\")\n",
    "    ax[2].plot(y_true[idx1:idx2], label=\"True\")\n",
    "    ax[2].plot(mean[idx1:idx2], label=f\"$\\mu$ Predicted\", color=\"orange\")\n",
    "    #ax[3].plot(y_true[idx1:idx2], label=\"True\", alpha=0.7)\n",
    "    ax[3].plot(sigma[idx1:idx2], label=f\"$\\sigma$ Predicted\", color=\"green\")\n",
    "    ax[0].legend(fontsize=15, bbox_to_anchor=(0.5,1))\n",
    "    ax[1].legend(fontsize=15, bbox_to_anchor=(0.5,1))\n",
    "    ax[2].legend(fontsize=15, bbox_to_anchor=(0.5,1))\n",
    "    ax[3].legend(fontsize=15, bbox_to_anchor=(0.5,1))\n",
    "    sns.despine()\n"
   ]
  },
  {
   "cell_type": "code",
   "execution_count": 18,
   "metadata": {},
   "outputs": [],
   "source": [
    "import scipy.stats as st\n",
    "def calibrate(mean, sigma, Y):\n",
    "    df = pd.DataFrame()\n",
    "    df[\"mean\"] = mean\n",
    "    df[\"sigma\"] = sigma\n",
    "    df[\"Y\"] = Y\n",
    "    df[\"z\"] = (df[\"Y\"] - df[\"mean\"]) / df[\"sigma\"]\n",
    "    df[\"perc\"] = st.norm.cdf(df[\"z\"])\n",
    "    k = jnp.arange(0, 1.1, 0.1)\n",
    "    counts = []\n",
    "    df2 = pd.DataFrame()\n",
    "    df2[\"Interval\"] = k\n",
    "    df2[\"Ideal\"] = k\n",
    "    for i in range(0, 11):\n",
    "        l = df[df[\"perc\"] < 0.5 + i * 0.05]\n",
    "        l = l[l[\"perc\"] >= 0.5 - i * 0.05]\n",
    "        counts.append(len(l) / len(df))\n",
    "    df2[\"Counts\"] = counts\n",
    "    return df2"
   ]
  },
  {
   "cell_type": "code",
   "execution_count": 19,
   "metadata": {},
   "outputs": [],
   "source": [
    "def something2(tr_df,te_df,recal_df):\n",
    "    for i,j in zip(grp,grp2):\n",
    "        try:\n",
    "            q = tr_df[i+'sigma']\n",
    "            tr_nll.append(errors.NLL(tr_df[i+'mean'].values,tr_df[i+'sigma'].values,tr_df['ground truth'].values))\n",
    "            te_nll.append(errors.NLL(te_df[i+'mean'].values,te_df[i+'sigma'].values,te_df['ground truth'].values))\n",
    "            df =  recalibration.find_p_hat_(tr_df['ground truth'].values,tr_df[i+'mean'].values,tr_df[i+'sigma'].values) \n",
    "            tr_ce.append(mae_(df))\n",
    "            df1 =  recalibration.find_p_hat_(te_df['ground truth'].values,te_df[i+'mean'].values,te_df[i+'sigma'].values) \n",
    "            te_ce.append(mae_(df1))\n",
    "            te_rce.append(mae1(recal_df['p'].values,recal_df['new_phat'+j].values))\n",
    "            \n",
    "        except KeyError:\n",
    "            # print(KeyError.args)\n",
    "            tr_nll.append(0)\n",
    "            te_nll.append(0)\n",
    "            tr_ce.append(0)\n",
    "            # tr_l2_ce.append(0)\n",
    "            te_ce.append(0)\n",
    "            te_rce.append(0)\n",
    "            # te_l2_ce.append(0)\n",
    "            # pass\n",
    "            \n",
    "\n",
    "def something(tr_df,te_df):\n",
    "    for i in grp:\n",
    "        \n",
    "            tr_rmse.append((errors.rmse(tr_df['ground truth'].values,tr_df[i+'mean'].values)))\n",
    "            te_rmse.append((errors.rmse(te_df['ground truth'].values,te_df[i+'mean'].values)))\n",
    "            tr_mae.append((errors.mae(tr_df['ground truth'].values,tr_df[i+'mean'].values)))\n",
    "            te_mae.append((errors.mae(te_df['ground truth'].values,te_df[i+'mean'].values)))\n",
    "\n"
   ]
  },
  {
   "cell_type": "markdown",
   "metadata": {},
   "source": [
    "# Table"
   ]
  },
  {
   "cell_type": "code",
   "execution_count": 20,
   "metadata": {},
   "outputs": [],
   "source": [
    "metric  =pd.DataFrame({'approach':[],'Tr_mae':[],'Te_mae':[],'Tr_rmse':[],'Te_rmse':[],'Tr_nll':[],'Te_nll':[],\n",
    "'Tr_ce':[],'Te_ce':[],'Te_rce':[]})\n",
    "row1 = {'approach':['s2p','s2p+mc','s2p+de','s2p+bs','gs2p','gs2p+mc','gs2p+de','gs2p+bs',\n",
    "'lstm','lstm+mc','lstm+de','lstm+bs','glstm','glstm+mc','glstm+de','glstm+bs']}\n",
    "grp = ['','mc_','de_','bs_']\n",
    "grp2 = ['','_mc','_de','_bs']\n",
    "tr_rmse,te_rmse = [],[]\n",
    "tr_mae,te_mae = [],[]\n",
    "tr_nll,te_nll = [],[]\n",
    "tr_ce,te_ce,te_rce = [],[],[]\n",
    "row1 = pd.DataFrame(row1)\n",
    "metric = pd.concat([metric,row1],ignore_index=True)\n"
   ]
  },
  {
   "cell_type": "code",
   "execution_count": 21,
   "metadata": {},
   "outputs": [],
   "source": [
    "something(s2p_mlp_training,s2p_mlp_testing)\n",
    "something(s2p_gmlp_training,s2p_gmlp_testing)\n",
    "something(lstm_mlp_training,lstm_mlp_testing)\n",
    "something(lstm_gmlp_training,lstm_gmlp_testing)\n",
    "something2(s2p_mlp_training,s2p_mlp_testing,s2p_mlp_recal)\n",
    "something2(s2p_gmlp_training,s2p_gmlp_testing,s2p_gmlp_recal)\n",
    "something2(lstm_mlp_training,lstm_mlp_testing,lstm_mlp_recal)\n",
    "something2(lstm_gmlp_training,lstm_gmlp_testing,lstm_gmlp_recal)\n",
    "metric['Tr_rmse']=tr_rmse\n",
    "metric['Te_rmse']=te_rmse\n",
    "metric['Tr_mae']=tr_mae\n",
    "metric['Te_mae']=te_mae\n",
    "metric['Tr_nll']=tr_nll\n",
    "metric['Te_nll']=te_nll\n",
    "metric['Tr_ce']=tr_ce\n",
    "metric['Te_ce']=te_ce\t\n",
    "metric['Te_rce']=te_rce\t\n",
    "\t"
   ]
  },
  {
   "cell_type": "code",
   "execution_count": 22,
   "metadata": {},
   "outputs": [
    {
     "data": {
      "text/html": [
       "<div>\n",
       "<style scoped>\n",
       "    .dataframe tbody tr th:only-of-type {\n",
       "        vertical-align: middle;\n",
       "    }\n",
       "\n",
       "    .dataframe tbody tr th {\n",
       "        vertical-align: top;\n",
       "    }\n",
       "\n",
       "    .dataframe thead th {\n",
       "        text-align: right;\n",
       "    }\n",
       "</style>\n",
       "<table border=\"1\" class=\"dataframe\">\n",
       "  <thead>\n",
       "    <tr style=\"text-align: right;\">\n",
       "      <th></th>\n",
       "      <th>approach</th>\n",
       "      <th>Tr_mae</th>\n",
       "      <th>Te_mae</th>\n",
       "      <th>Tr_rmse</th>\n",
       "      <th>Te_rmse</th>\n",
       "      <th>Tr_nll</th>\n",
       "      <th>Te_nll</th>\n",
       "      <th>Tr_ce</th>\n",
       "      <th>Te_ce</th>\n",
       "      <th>Te_rce</th>\n",
       "    </tr>\n",
       "  </thead>\n",
       "  <tbody>\n",
       "    <tr>\n",
       "      <th>0</th>\n",
       "      <td>s2p</td>\n",
       "      <td>1.5949644</td>\n",
       "      <td>12.850383</td>\n",
       "      <td>9.507036</td>\n",
       "      <td>88.49797</td>\n",
       "      <td>0</td>\n",
       "      <td>0</td>\n",
       "      <td>0</td>\n",
       "      <td>0</td>\n",
       "      <td>0</td>\n",
       "    </tr>\n",
       "    <tr>\n",
       "      <th>1</th>\n",
       "      <td>s2p+mc</td>\n",
       "      <td>1.6787405</td>\n",
       "      <td>12.976094</td>\n",
       "      <td>10.141713</td>\n",
       "      <td>88.60537</td>\n",
       "      <td>103187350000.0</td>\n",
       "      <td>655179950000000.0</td>\n",
       "      <td>0.47378793</td>\n",
       "      <td>0.48910263</td>\n",
       "      <td>0.42578924</td>\n",
       "    </tr>\n",
       "    <tr>\n",
       "      <th>2</th>\n",
       "      <td>s2p+de</td>\n",
       "      <td>1.0242324</td>\n",
       "      <td>12.469606</td>\n",
       "      <td>5.012813</td>\n",
       "      <td>78.47943</td>\n",
       "      <td>11.079868</td>\n",
       "      <td>17.201664</td>\n",
       "      <td>0.3636162</td>\n",
       "      <td>0.43721402</td>\n",
       "      <td>0.3740519</td>\n",
       "    </tr>\n",
       "    <tr>\n",
       "      <th>3</th>\n",
       "      <td>s2p+bs</td>\n",
       "      <td>1.0680155</td>\n",
       "      <td>11.494465</td>\n",
       "      <td>5.7702885</td>\n",
       "      <td>80.5317</td>\n",
       "      <td>1.8355069</td>\n",
       "      <td>2.3792608</td>\n",
       "      <td>0.2381119</td>\n",
       "      <td>0.05813046</td>\n",
       "      <td>0.21978857</td>\n",
       "    </tr>\n",
       "    <tr>\n",
       "      <th>4</th>\n",
       "      <td>gs2p</td>\n",
       "      <td>12.358407</td>\n",
       "      <td>9.611411</td>\n",
       "      <td>85.69681</td>\n",
       "      <td>92.05086</td>\n",
       "      <td>2.0192528</td>\n",
       "      <td>1.6614789</td>\n",
       "      <td>0.19629566</td>\n",
       "      <td>0.19819646</td>\n",
       "      <td>0.061218884</td>\n",
       "    </tr>\n",
       "    <tr>\n",
       "      <th>5</th>\n",
       "      <td>gs2p+mc</td>\n",
       "      <td>11.727242</td>\n",
       "      <td>9.26328</td>\n",
       "      <td>86.72218</td>\n",
       "      <td>92.7513</td>\n",
       "      <td>1.4534016</td>\n",
       "      <td>1.5501179</td>\n",
       "      <td>0.08034008</td>\n",
       "      <td>0.16303436</td>\n",
       "      <td>0.12972693</td>\n",
       "    </tr>\n",
       "    <tr>\n",
       "      <th>6</th>\n",
       "      <td>gs2p+de</td>\n",
       "      <td>13.266327</td>\n",
       "      <td>9.814224</td>\n",
       "      <td>87.05264</td>\n",
       "      <td>94.25544</td>\n",
       "      <td>2.0739903</td>\n",
       "      <td>2.1566098</td>\n",
       "      <td>0.06169572</td>\n",
       "      <td>0.13060367</td>\n",
       "      <td>0.06605796</td>\n",
       "    </tr>\n",
       "    <tr>\n",
       "      <th>7</th>\n",
       "      <td>gs2p+bs</td>\n",
       "      <td>14.054095</td>\n",
       "      <td>10.218866</td>\n",
       "      <td>89.321686</td>\n",
       "      <td>93.88664</td>\n",
       "      <td>4.029626</td>\n",
       "      <td>3.9047284</td>\n",
       "      <td>0.44755435</td>\n",
       "      <td>0.4342328</td>\n",
       "      <td>0.17348978</td>\n",
       "    </tr>\n",
       "    <tr>\n",
       "      <th>8</th>\n",
       "      <td>lstm</td>\n",
       "      <td>9.063481</td>\n",
       "      <td>12.292728</td>\n",
       "      <td>38.32781</td>\n",
       "      <td>68.59398</td>\n",
       "      <td>0</td>\n",
       "      <td>0</td>\n",
       "      <td>0</td>\n",
       "      <td>0</td>\n",
       "      <td>0</td>\n",
       "    </tr>\n",
       "    <tr>\n",
       "      <th>9</th>\n",
       "      <td>lstm+mc</td>\n",
       "      <td>9.07119</td>\n",
       "      <td>12.295071</td>\n",
       "      <td>38.404182</td>\n",
       "      <td>68.58845</td>\n",
       "      <td>438.4633</td>\n",
       "      <td>1014.723</td>\n",
       "      <td>0.4617296</td>\n",
       "      <td>0.49255827</td>\n",
       "      <td>0.39623168</td>\n",
       "    </tr>\n",
       "    <tr>\n",
       "      <th>10</th>\n",
       "      <td>lstm+de</td>\n",
       "      <td>7.6176524</td>\n",
       "      <td>10.331643</td>\n",
       "      <td>40.361946</td>\n",
       "      <td>70.25992</td>\n",
       "      <td>65.85506</td>\n",
       "      <td>230.30638</td>\n",
       "      <td>0.09398214</td>\n",
       "      <td>0.29627216</td>\n",
       "      <td>0.2154378</td>\n",
       "    </tr>\n",
       "    <tr>\n",
       "      <th>11</th>\n",
       "      <td>lstm+bs</td>\n",
       "      <td>7.7706513</td>\n",
       "      <td>9.990692</td>\n",
       "      <td>39.7567</td>\n",
       "      <td>68.62475</td>\n",
       "      <td>30.06657</td>\n",
       "      <td>78.114586</td>\n",
       "      <td>0.1310871</td>\n",
       "      <td>0.14220957</td>\n",
       "      <td>0.18962835</td>\n",
       "    </tr>\n",
       "    <tr>\n",
       "      <th>12</th>\n",
       "      <td>glstm</td>\n",
       "      <td>12.391997</td>\n",
       "      <td>10.073927</td>\n",
       "      <td>89.74138</td>\n",
       "      <td>93.36052</td>\n",
       "      <td>2.1677313</td>\n",
       "      <td>16.68411</td>\n",
       "      <td>0.25649282</td>\n",
       "      <td>0.23810896</td>\n",
       "      <td>0.07294721</td>\n",
       "    </tr>\n",
       "    <tr>\n",
       "      <th>13</th>\n",
       "      <td>glstm+mc</td>\n",
       "      <td>12.4378805</td>\n",
       "      <td>10.107924</td>\n",
       "      <td>89.7734</td>\n",
       "      <td>93.35816</td>\n",
       "      <td>2.333263</td>\n",
       "      <td>13.440862</td>\n",
       "      <td>0.27630007</td>\n",
       "      <td>0.26692575</td>\n",
       "      <td>0.05327173</td>\n",
       "    </tr>\n",
       "    <tr>\n",
       "      <th>14</th>\n",
       "      <td>glstm+de</td>\n",
       "      <td>12.5086565</td>\n",
       "      <td>10.078619</td>\n",
       "      <td>90.52744</td>\n",
       "      <td>93.64348</td>\n",
       "      <td>2.3782585</td>\n",
       "      <td>12.394164</td>\n",
       "      <td>0.3025139</td>\n",
       "      <td>0.2983128</td>\n",
       "      <td>0.059285104</td>\n",
       "    </tr>\n",
       "    <tr>\n",
       "      <th>15</th>\n",
       "      <td>glstm+bs</td>\n",
       "      <td>15.24363</td>\n",
       "      <td>11.122097</td>\n",
       "      <td>91.49099</td>\n",
       "      <td>93.80185</td>\n",
       "      <td>2.6141758</td>\n",
       "      <td>10.013251</td>\n",
       "      <td>0.24223585</td>\n",
       "      <td>0.29043025</td>\n",
       "      <td>0.07012708</td>\n",
       "    </tr>\n",
       "  </tbody>\n",
       "</table>\n",
       "</div>"
      ],
      "text/plain": [
       "    approach      Tr_mae     Te_mae    Tr_rmse   Te_rmse          Tr_nll  \\\n",
       "0        s2p   1.5949644  12.850383   9.507036  88.49797               0   \n",
       "1     s2p+mc   1.6787405  12.976094  10.141713  88.60537  103187350000.0   \n",
       "2     s2p+de   1.0242324  12.469606   5.012813  78.47943       11.079868   \n",
       "3     s2p+bs   1.0680155  11.494465  5.7702885   80.5317       1.8355069   \n",
       "4       gs2p   12.358407   9.611411   85.69681  92.05086       2.0192528   \n",
       "5    gs2p+mc   11.727242    9.26328   86.72218   92.7513       1.4534016   \n",
       "6    gs2p+de   13.266327   9.814224   87.05264  94.25544       2.0739903   \n",
       "7    gs2p+bs   14.054095  10.218866  89.321686  93.88664        4.029626   \n",
       "8       lstm    9.063481  12.292728   38.32781  68.59398               0   \n",
       "9    lstm+mc     9.07119  12.295071  38.404182  68.58845        438.4633   \n",
       "10   lstm+de   7.6176524  10.331643  40.361946  70.25992        65.85506   \n",
       "11   lstm+bs   7.7706513   9.990692    39.7567  68.62475        30.06657   \n",
       "12     glstm   12.391997  10.073927   89.74138  93.36052       2.1677313   \n",
       "13  glstm+mc  12.4378805  10.107924    89.7734  93.35816        2.333263   \n",
       "14  glstm+de  12.5086565  10.078619   90.52744  93.64348       2.3782585   \n",
       "15  glstm+bs    15.24363  11.122097   91.49099  93.80185       2.6141758   \n",
       "\n",
       "               Te_nll       Tr_ce       Te_ce       Te_rce  \n",
       "0                   0           0           0            0  \n",
       "1   655179950000000.0  0.47378793  0.48910263   0.42578924  \n",
       "2           17.201664   0.3636162  0.43721402    0.3740519  \n",
       "3           2.3792608   0.2381119  0.05813046   0.21978857  \n",
       "4           1.6614789  0.19629566  0.19819646  0.061218884  \n",
       "5           1.5501179  0.08034008  0.16303436   0.12972693  \n",
       "6           2.1566098  0.06169572  0.13060367   0.06605796  \n",
       "7           3.9047284  0.44755435   0.4342328   0.17348978  \n",
       "8                   0           0           0            0  \n",
       "9            1014.723   0.4617296  0.49255827   0.39623168  \n",
       "10          230.30638  0.09398214  0.29627216    0.2154378  \n",
       "11          78.114586   0.1310871  0.14220957   0.18962835  \n",
       "12           16.68411  0.25649282  0.23810896   0.07294721  \n",
       "13          13.440862  0.27630007  0.26692575   0.05327173  \n",
       "14          12.394164   0.3025139   0.2983128  0.059285104  \n",
       "15          10.013251  0.24223585  0.29043025   0.07012708  "
      ]
     },
     "execution_count": 22,
     "metadata": {},
     "output_type": "execute_result"
    }
   ],
   "source": [
    "metric"
   ]
  },
  {
   "cell_type": "markdown",
   "metadata": {},
   "source": [
    "# Analysis"
   ]
  },
  {
   "cell_type": "code",
   "execution_count": 23,
   "metadata": {},
   "outputs": [],
   "source": [
    "plt.bar(metric['approach'],metric['Te_mae'])\n",
    "# plt.bar(metric['approach'],metric['Te_l1_ce'])\n",
    "plt.xticks(rotation=90)\n",
    "sns.despine()"
   ]
  },
  {
   "cell_type": "code",
   "execution_count": 24,
   "metadata": {},
   "outputs": [],
   "source": [
    "plt.bar(metric['approach'],metric['Te_ce'])\n",
    "plt.xticks(rotation=90)\n",
    "sns.despine()"
   ]
  },
  {
   "cell_type": "markdown",
   "metadata": {},
   "source": [
    "MAE = s2p_gmlp_testing mc \\\n",
    "TRADEOFF = lstm_mlp_testing bs \\\n",
    "ECE = lstm_gmlp_testing mc"
   ]
  },
  {
   "cell_type": "code",
   "execution_count": 25,
   "metadata": {},
   "outputs": [],
   "source": [
    "idx1=4750\n",
    "idx2=5000"
   ]
  },
  {
   "cell_type": "code",
   "execution_count": 26,
   "metadata": {},
   "outputs": [],
   "source": [
    "timestamp = s2p_gmlp_testing[\"timestamp\"][idx1:idx2]"
   ]
  },
  {
   "cell_type": "code",
   "execution_count": 27,
   "metadata": {},
   "outputs": [],
   "source": [
    "timestamp = pd.to_datetime(timestamp).dt.strftime('%H:%M')"
   ]
  },
  {
   "cell_type": "code",
   "execution_count": 28,
   "metadata": {},
   "outputs": [],
   "source": [
    "def plot_figure(ax, y, mean, sigma, title):\n",
    "    ax.plot(timestamp, y[idx1:idx2], label=\"Y\")\n",
    "    ax.plot(timestamp, mean[idx1:idx2], label=\"Mean\")\n",
    "    ax.plot(timestamp, sigma[idx1:idx2], label=\"Sigma\")\n",
    "    ax.set_xticks(jnp.arange(0, idx2-idx1, 30), fontsize=2)\n",
    "    ax.tick_params(axis='x',rotation=60)\n",
    "    error = errors.mae(y.values, mean.values)\n",
    "    df = recalibration.find_p_hat_(y, mean, sigma)\n",
    "    ax.set_title(f'{title} \\nMAE = {error:.2f}, ECE = {mae_(df):.2f}\\n')\n"
   ]
  },
  {
   "cell_type": "code",
   "execution_count": 29,
   "metadata": {},
   "outputs": [],
   "source": [
    "def plot_callibration(ax, y, mean, sigma):\n",
    "    off_idx = y <= 200\n",
    "    on_idx = y > 200\n",
    "    off_truth, off_mean, off_sigma = y[off_idx], mean[off_idx], sigma[off_idx]\n",
    "    on_truth, on_mean, on_sigma = y[on_idx], mean[on_idx], sigma[on_idx]\n",
    "\n",
    "    df = recalibration.find_p_hat_(y, mean, sigma)\n",
    "    ax.plot(df[\"p\"], df[\"p_hat\"], \"--\", label=\"Total\")\n",
    "    total_error = mae_(df)\n",
    "\n",
    "    df = recalibration.find_p_hat_(off_truth,  off_mean, off_sigma)\n",
    "    ax.plot(df[\"p\"], df[\"p_hat\"], \"--\", label=\"Off\")\n",
    "    off_error = mae_(df)\n",
    "\n",
    "    df = recalibration.find_p_hat_(on_truth,  on_mean, on_sigma)\n",
    "    ax.plot(df[\"p\"], df[\"p_hat\"], \"--\", label=\"On\")\n",
    "    on_error = mae_(df)\n",
    "\n",
    "    ax.plot([0,1],[0,1], \"--\", color=\"black\", label=\"Ideal\")\n",
    "    ax.set_title(f'\\nOn ECE = {on_error:.4f}\\nOff ECE = {off_error:.4f}')"
   ]
  },
  {
   "cell_type": "code",
   "execution_count": 30,
   "metadata": {},
   "outputs": [],
   "source": [
    "latexify(fig_width=6.6, fig_height=4)"
   ]
  },
  {
   "cell_type": "code",
   "execution_count": null,
   "metadata": {},
   "outputs": [],
   "source": [
    "plt.figure()\n",
    "fig, ax = plt.subplots(2, 3, sharey=\"row\")\n",
    "\n",
    "plot_figure(ax[0,0], s2p_gmlp_testing[\"ground truth\"], s2p_gmlp_testing[\"mc_mean\"], \n",
    "            s2p_gmlp_testing[\"mc_sigma\"], \"Hetero S2P MC\")\n",
    "plot_figure(ax[0,1], lstm_mlp_testing[\"ground truth\"], lstm_mlp_testing[\"bs_mean\"], \n",
    "            lstm_mlp_testing[\"bs_sigma\"], \"Homo LSTM BS\")\n",
    "plot_figure(ax[0,2], lstm_gmlp_testing[\"ground truth\"], lstm_gmlp_testing[\"mc_mean\"], \n",
    "            lstm_gmlp_testing[\"mc_sigma\"], \"Hetero LSTM MC\")\n",
    "\n",
    "plot_callibration(ax[1,0], s2p_gmlp_testing[\"ground truth\"], s2p_gmlp_testing[\"mc_mean\"], \n",
    "                  s2p_gmlp_testing[\"mc_sigma\"])\n",
    "plot_callibration(ax[1,1], lstm_mlp_testing[\"ground truth\"], lstm_mlp_testing[\"bs_mean\"], \n",
    "                  lstm_mlp_testing[\"bs_sigma\"])\n",
    "plot_callibration(ax[1,2], lstm_gmlp_testing[\"ground truth\"], lstm_gmlp_testing[\"mc_mean\"], \n",
    "                  lstm_gmlp_testing[\"mc_sigma\"])\n",
    "\n",
    "ax[0,0].legend([\"Ground\\nTruth\"], loc=\"upper left\", fontsize=6)\n",
    "line = mlines.Line2D([], [], color='C1', marker=\"_\", ls='', label='Mean', markersize=13,\n",
    "                    markeredgewidth=1.5)\n",
    "ax[0,1].legend(handles=[line], loc=\"upper left\", fontsize=6)\n",
    "line = mlines.Line2D([], [], color='green', marker=\"_\", ls='', label='Sigma', markersize=13,\n",
    "                    markeredgewidth=1.5)\n",
    "ax[0,2].legend(handles=[line], loc=\"upper left\", fontsize=6)\n",
    "\n",
    "ax[0,0].set_xlabel(\"(a)\")\n",
    "ax[0,1].set_xlabel(\"(b)\")\n",
    "ax[0,2].set_xlabel(\"(c)\")\n",
    "ax[1,0].set_xlabel(\"p\\n(d)\")\n",
    "ax[1,1].set_xlabel(\"p\\n(e)\")\n",
    "ax[1,2].set_xlabel(\"p\\n(f)\")\n",
    "\n",
    "ax[1,0].legend(fontsize=5, loc=\"upper left\")\n",
    "ax[0,0].set_ylabel(\"Power (W)\")\n",
    "ax[1,0].set_ylabel(\"$\\hat{p}$\")\n",
    "sns.despine()\n",
    "savefig(\"dishwasher_best_error_dishwasher\")"
   ]
  }
 ],
 "metadata": {
  "kernelspec": {
   "display_name": "Python 3.8.10 64-bit",
   "language": "python",
   "name": "python3"
  },
  "language_info": {
   "codemirror_mode": {
    "name": "ipython",
    "version": 3
   },
   "file_extension": ".py",
   "mimetype": "text/x-python",
   "name": "python",
   "nbconvert_exporter": "python",
   "pygments_lexer": "ipython3",
   "version": "3.8.10"
  },
  "orig_nbformat": 4,
  "vscode": {
   "interpreter": {
    "hash": "916dbcbb3f70747c44a77c7bcd40155683ae19c65e1c03b4aa3499c5328201f1"
   }
  }
 },
 "nbformat": 4,
 "nbformat_minor": 2
}
