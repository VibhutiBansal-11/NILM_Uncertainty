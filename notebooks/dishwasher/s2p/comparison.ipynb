{
 "cells": [
  {
   "cell_type": "code",
   "execution_count": 1,
   "metadata": {},
   "outputs": [],
   "source": [
    "import matplotlib.pyplot as plt\n",
    "import seaborn as sns\n",
    "from probml_utils import latexify, savefig"
   ]
  },
  {
   "cell_type": "code",
   "execution_count": 2,
   "metadata": {},
   "outputs": [],
   "source": [
    "import pandas as pd"
   ]
  },
  {
   "cell_type": "code",
   "execution_count": 3,
   "metadata": {},
   "outputs": [],
   "source": [
    "mlp = pd.read_csv('mlp/testing_predictions.csv')\n",
    "gmlp = pd.read_csv('gmlp/testing_predictions.csv')"
   ]
  },
  {
   "cell_type": "code",
   "execution_count": 4,
   "metadata": {},
   "outputs": [
    {
     "data": {
      "text/html": [
       "<div>\n",
       "<style scoped>\n",
       "    .dataframe tbody tr th:only-of-type {\n",
       "        vertical-align: middle;\n",
       "    }\n",
       "\n",
       "    .dataframe tbody tr th {\n",
       "        vertical-align: top;\n",
       "    }\n",
       "\n",
       "    .dataframe thead th {\n",
       "        text-align: right;\n",
       "    }\n",
       "</style>\n",
       "<table border=\"1\" class=\"dataframe\">\n",
       "  <thead>\n",
       "    <tr style=\"text-align: right;\">\n",
       "      <th></th>\n",
       "      <th>Timestamp</th>\n",
       "      <th>Ground Truth</th>\n",
       "      <th>mean</th>\n",
       "      <th>sigma</th>\n",
       "      <th>MC_Mean</th>\n",
       "      <th>MC_Sigma</th>\n",
       "      <th>de_Mean</th>\n",
       "      <th>de_Sigma</th>\n",
       "      <th>bs_Mean</th>\n",
       "      <th>bs_Sigma</th>\n",
       "    </tr>\n",
       "  </thead>\n",
       "  <tbody>\n",
       "    <tr>\n",
       "      <th>0</th>\n",
       "      <td>2011-04-21 00:00:00-04:00</td>\n",
       "      <td>0.1250</td>\n",
       "      <td>0.560691</td>\n",
       "      <td>0.455069</td>\n",
       "      <td>0.304496</td>\n",
       "      <td>0.719900</td>\n",
       "      <td>0.391008</td>\n",
       "      <td>0.463450</td>\n",
       "      <td>-1.572591</td>\n",
       "      <td>12.401529</td>\n",
       "    </tr>\n",
       "    <tr>\n",
       "      <th>1</th>\n",
       "      <td>2011-04-21 00:01:00-04:00</td>\n",
       "      <td>0.1250</td>\n",
       "      <td>0.540723</td>\n",
       "      <td>0.452637</td>\n",
       "      <td>0.041602</td>\n",
       "      <td>0.546710</td>\n",
       "      <td>0.386399</td>\n",
       "      <td>0.457410</td>\n",
       "      <td>-1.620432</td>\n",
       "      <td>12.350629</td>\n",
       "    </tr>\n",
       "    <tr>\n",
       "      <th>2</th>\n",
       "      <td>2011-04-21 00:02:00-04:00</td>\n",
       "      <td>0.1250</td>\n",
       "      <td>0.589463</td>\n",
       "      <td>0.453883</td>\n",
       "      <td>-0.036667</td>\n",
       "      <td>0.667655</td>\n",
       "      <td>0.384503</td>\n",
       "      <td>0.457996</td>\n",
       "      <td>-1.552208</td>\n",
       "      <td>12.320153</td>\n",
       "    </tr>\n",
       "    <tr>\n",
       "      <th>3</th>\n",
       "      <td>2011-04-21 00:03:00-04:00</td>\n",
       "      <td>0.0625</td>\n",
       "      <td>0.619394</td>\n",
       "      <td>0.454820</td>\n",
       "      <td>-0.058678</td>\n",
       "      <td>0.492106</td>\n",
       "      <td>0.376842</td>\n",
       "      <td>0.454896</td>\n",
       "      <td>-1.578233</td>\n",
       "      <td>12.302898</td>\n",
       "    </tr>\n",
       "    <tr>\n",
       "      <th>4</th>\n",
       "      <td>2011-04-21 00:04:00-04:00</td>\n",
       "      <td>0.1250</td>\n",
       "      <td>0.582698</td>\n",
       "      <td>0.451035</td>\n",
       "      <td>-0.028519</td>\n",
       "      <td>0.508435</td>\n",
       "      <td>0.371171</td>\n",
       "      <td>0.460316</td>\n",
       "      <td>-1.594788</td>\n",
       "      <td>12.298023</td>\n",
       "    </tr>\n",
       "    <tr>\n",
       "      <th>...</th>\n",
       "      <td>...</td>\n",
       "      <td>...</td>\n",
       "      <td>...</td>\n",
       "      <td>...</td>\n",
       "      <td>...</td>\n",
       "      <td>...</td>\n",
       "      <td>...</td>\n",
       "      <td>...</td>\n",
       "      <td>...</td>\n",
       "      <td>...</td>\n",
       "    </tr>\n",
       "    <tr>\n",
       "      <th>15651</th>\n",
       "      <td>2011-05-01 23:00:00-04:00</td>\n",
       "      <td>0.0000</td>\n",
       "      <td>0.257425</td>\n",
       "      <td>0.477459</td>\n",
       "      <td>-0.201398</td>\n",
       "      <td>0.630706</td>\n",
       "      <td>0.134632</td>\n",
       "      <td>0.501899</td>\n",
       "      <td>-1.776733</td>\n",
       "      <td>12.666398</td>\n",
       "    </tr>\n",
       "    <tr>\n",
       "      <th>15652</th>\n",
       "      <td>2011-05-01 23:01:00-04:00</td>\n",
       "      <td>0.0000</td>\n",
       "      <td>0.232105</td>\n",
       "      <td>0.475600</td>\n",
       "      <td>-0.161404</td>\n",
       "      <td>0.593273</td>\n",
       "      <td>0.113198</td>\n",
       "      <td>0.505339</td>\n",
       "      <td>-1.857508</td>\n",
       "      <td>12.706263</td>\n",
       "    </tr>\n",
       "    <tr>\n",
       "      <th>15653</th>\n",
       "      <td>2011-05-01 23:02:00-04:00</td>\n",
       "      <td>0.0625</td>\n",
       "      <td>0.194375</td>\n",
       "      <td>0.475994</td>\n",
       "      <td>-0.104502</td>\n",
       "      <td>0.659247</td>\n",
       "      <td>0.101725</td>\n",
       "      <td>0.508051</td>\n",
       "      <td>-1.802611</td>\n",
       "      <td>12.755763</td>\n",
       "    </tr>\n",
       "    <tr>\n",
       "      <th>15654</th>\n",
       "      <td>2011-05-01 23:03:00-04:00</td>\n",
       "      <td>0.1250</td>\n",
       "      <td>0.224032</td>\n",
       "      <td>0.474981</td>\n",
       "      <td>-0.118514</td>\n",
       "      <td>0.670069</td>\n",
       "      <td>0.088848</td>\n",
       "      <td>0.497489</td>\n",
       "      <td>-1.949037</td>\n",
       "      <td>12.759932</td>\n",
       "    </tr>\n",
       "    <tr>\n",
       "      <th>15655</th>\n",
       "      <td>2011-05-01 23:04:00-04:00</td>\n",
       "      <td>0.1000</td>\n",
       "      <td>0.186297</td>\n",
       "      <td>0.470991</td>\n",
       "      <td>-0.059543</td>\n",
       "      <td>0.546338</td>\n",
       "      <td>0.061022</td>\n",
       "      <td>0.481354</td>\n",
       "      <td>-2.034329</td>\n",
       "      <td>12.732852</td>\n",
       "    </tr>\n",
       "  </tbody>\n",
       "</table>\n",
       "<p>15656 rows × 10 columns</p>\n",
       "</div>"
      ],
      "text/plain": [
       "                       Timestamp  Ground Truth      mean     sigma   MC_Mean  \\\n",
       "0      2011-04-21 00:00:00-04:00        0.1250  0.560691  0.455069  0.304496   \n",
       "1      2011-04-21 00:01:00-04:00        0.1250  0.540723  0.452637  0.041602   \n",
       "2      2011-04-21 00:02:00-04:00        0.1250  0.589463  0.453883 -0.036667   \n",
       "3      2011-04-21 00:03:00-04:00        0.0625  0.619394  0.454820 -0.058678   \n",
       "4      2011-04-21 00:04:00-04:00        0.1250  0.582698  0.451035 -0.028519   \n",
       "...                          ...           ...       ...       ...       ...   \n",
       "15651  2011-05-01 23:00:00-04:00        0.0000  0.257425  0.477459 -0.201398   \n",
       "15652  2011-05-01 23:01:00-04:00        0.0000  0.232105  0.475600 -0.161404   \n",
       "15653  2011-05-01 23:02:00-04:00        0.0625  0.194375  0.475994 -0.104502   \n",
       "15654  2011-05-01 23:03:00-04:00        0.1250  0.224032  0.474981 -0.118514   \n",
       "15655  2011-05-01 23:04:00-04:00        0.1000  0.186297  0.470991 -0.059543   \n",
       "\n",
       "       MC_Sigma   de_Mean  de_Sigma   bs_Mean   bs_Sigma  \n",
       "0      0.719900  0.391008  0.463450 -1.572591  12.401529  \n",
       "1      0.546710  0.386399  0.457410 -1.620432  12.350629  \n",
       "2      0.667655  0.384503  0.457996 -1.552208  12.320153  \n",
       "3      0.492106  0.376842  0.454896 -1.578233  12.302898  \n",
       "4      0.508435  0.371171  0.460316 -1.594788  12.298023  \n",
       "...         ...       ...       ...       ...        ...  \n",
       "15651  0.630706  0.134632  0.501899 -1.776733  12.666398  \n",
       "15652  0.593273  0.113198  0.505339 -1.857508  12.706263  \n",
       "15653  0.659247  0.101725  0.508051 -1.802611  12.755763  \n",
       "15654  0.670069  0.088848  0.497489 -1.949037  12.759932  \n",
       "15655  0.546338  0.061022  0.481354 -2.034329  12.732852  \n",
       "\n",
       "[15656 rows x 10 columns]"
      ]
     },
     "execution_count": 4,
     "metadata": {},
     "output_type": "execute_result"
    }
   ],
   "source": [
    "gmlp"
   ]
  },
  {
   "cell_type": "code",
   "execution_count": 5,
   "metadata": {},
   "outputs": [],
   "source": [
    "os.chdir('../../../')\n",
    "from utilities import errors"
   ]
  },
  {
   "cell_type": "code",
   "execution_count": 6,
   "metadata": {},
   "outputs": [],
   "source": [
    "e1=errors.mae(mlp['Ground Truth'].values,mlp['mean'].values)\n",
    "e2=errors.mae(gmlp['Ground Truth'].values,gmlp['MC_Mean'].values)"
   ]
  },
  {
   "cell_type": "code",
   "execution_count": 7,
   "metadata": {},
   "outputs": [],
   "source": [
    "timestamp = pd.to_datetime(mlp['Timestamp']).dt.strftime('%Y-%m-%d')"
   ]
  },
  {
   "cell_type": "code",
   "execution_count": 8,
   "metadata": {},
   "outputs": [
    {
     "data": {
      "text/plain": [
       "0        2011-04-21\n",
       "1        2011-04-21\n",
       "2        2011-04-21\n",
       "3        2011-04-21\n",
       "4        2011-04-21\n",
       "            ...    \n",
       "15651    2011-05-01\n",
       "15652    2011-05-01\n",
       "15653    2011-05-01\n",
       "15654    2011-05-01\n",
       "15655    2011-05-01\n",
       "Name: Timestamp, Length: 15656, dtype: object"
      ]
     },
     "execution_count": 8,
     "metadata": {},
     "output_type": "execute_result"
    }
   ],
   "source": [
    "timestamp"
   ]
  },
  {
   "cell_type": "code",
   "execution_count": 9,
   "metadata": {},
   "outputs": [
    {
     "data": {
      "text/plain": [
       "0        0.1250\n",
       "1        0.1250\n",
       "2        0.1250\n",
       "3        0.0625\n",
       "4        0.1250\n",
       "          ...  \n",
       "15651    0.0000\n",
       "15652    0.0000\n",
       "15653    0.0625\n",
       "15654    0.1250\n",
       "15655    0.1000\n",
       "Name: Ground Truth, Length: 15656, dtype: float64"
      ]
     },
     "execution_count": 9,
     "metadata": {},
     "output_type": "execute_result"
    }
   ],
   "source": [
    "mlp['Ground Truth']"
   ]
  },
  {
   "cell_type": "code",
   "execution_count": 10,
   "metadata": {},
   "outputs": [],
   "source": [
    "import jax.numpy as jnp\n",
    "import os\n",
    "os.environ['LATEXIFY']='1'"
   ]
  },
  {
   "cell_type": "code",
   "execution_count": 11,
   "metadata": {},
   "outputs": [
    {
     "data": {
      "text/plain": [
       "['models',\n",
       " 'datasets',\n",
       " 'figures',\n",
       " 'utilities',\n",
       " 'README.md',\n",
       " '.git',\n",
       " 'notebooks']"
      ]
     },
     "execution_count": 11,
     "metadata": {},
     "output_type": "execute_result"
    }
   ],
   "source": [
    "os.listdir()"
   ]
  },
  {
   "cell_type": "code",
   "execution_count": 16,
   "metadata": {},
   "outputs": [],
   "source": [
    "os.environ['FIG_DIR']='figures/'"
   ]
  },
  {
   "cell_type": "code",
   "execution_count": 17,
   "metadata": {},
   "outputs": [],
   "source": [
    "latexify(fig_width=7/2)"
   ]
  },
  {
   "cell_type": "code",
   "execution_count": 18,
   "metadata": {},
   "outputs": [
    {
     "name": "stdout",
     "output_type": "stream",
     "text": [
      "saving image to figures/comparison_dishwasher_latexified.pdf\n",
      "Figure size: [3.5 1.5]\n"
     ]
    },
    {
     "name": "stderr",
     "output_type": "stream",
     "text": [
      "/tmp/ipykernel_3838186/878857877.py:22: UserWarning: Tight layout not applied. The bottom and top margins cannot be made large enough to accommodate all axes decorations.\n",
      "  plt.tight_layout(pad=1)\n"
     ]
    }
   ],
   "source": [
    "fig,(a,b)=plt.subplots(1,2, sharey=True)\n",
    "a.plot(mlp['Ground Truth'],label='y', alpha=0.5)\n",
    "a.plot(mlp['mean'],label='$\\hat{y}$',color='orange')\n",
    "b.plot(gmlp['Ground Truth'],label='Ground Truth', alpha=0.5)\n",
    "\n",
    "b.plot(gmlp['MC_Sigma'],color='green',label='Sigma')\n",
    "b.plot(gmlp['MC_Mean'],color='orange',label='Mean')\n",
    "lgd = b.legend(bbox_to_anchor=(1.04,1.65),ncol=3)\n",
    "a.set_title(f'HOMO S2P NN\\nMAE: {e1:.2f}')\n",
    "b.set_title(f'HETERO S2P MC\\nMAE: {e2:.2f}')\n",
    "\n",
    "a.set_xticks(jnp.arange(0, len(timestamp), 4000), labels=timestamp.values[::4000])\n",
    "b.set_xticks(jnp.arange(0, len(timestamp), 4000), labels=timestamp.values[::4000])\n",
    "a.tick_params(axis='x',rotation=60)\n",
    "b.tick_params(axis='x',rotation=60)\n",
    "# a.set_ylim([0,1250])\n",
    "# b.set_ylim([0,1250])\n",
    "a.set_xlabel('(a)')\n",
    "b.set_xlabel('(b)')\n",
    "a.set_ylabel('Power (W)')\n",
    "sns.despine()\n",
    "plt.tight_layout(pad=1)\n",
    "savefig('comparison_dishwasher',bbox_extra_artists=(lgd,),bbox_inches='tight')"
   ]
  },
  {
   "cell_type": "code",
   "execution_count": 19,
   "metadata": {},
   "outputs": [
    {
     "data": {
      "text/plain": [
       "0        2011-04-21\n",
       "1        2011-04-21\n",
       "2        2011-04-21\n",
       "3        2011-04-21\n",
       "4        2011-04-21\n",
       "            ...    \n",
       "15651    2011-05-01\n",
       "15652    2011-05-01\n",
       "15653    2011-05-01\n",
       "15654    2011-05-01\n",
       "15655    2011-05-01\n",
       "Name: Timestamp, Length: 15656, dtype: object"
      ]
     },
     "execution_count": 19,
     "metadata": {},
     "output_type": "execute_result"
    }
   ],
   "source": [
    "timestamp"
   ]
  },
  {
   "cell_type": "code",
   "execution_count": null,
   "metadata": {},
   "outputs": [],
   "source": []
  },
  {
   "cell_type": "code",
   "execution_count": null,
   "metadata": {},
   "outputs": [],
   "source": []
  }
 ],
 "metadata": {
  "kernelspec": {
   "display_name": "Python 3.8.10 64-bit",
   "language": "python",
   "name": "python3"
  },
  "language_info": {
   "codemirror_mode": {
    "name": "ipython",
    "version": 3
   },
   "file_extension": ".py",
   "mimetype": "text/x-python",
   "name": "python",
   "nbconvert_exporter": "python",
   "pygments_lexer": "ipython3",
   "version": "3.8.10"
  },
  "orig_nbformat": 4,
  "vscode": {
   "interpreter": {
    "hash": "916dbcbb3f70747c44a77c7bcd40155683ae19c65e1c03b4aa3499c5328201f1"
   }
  }
 },
 "nbformat": 4,
 "nbformat_minor": 2
}
