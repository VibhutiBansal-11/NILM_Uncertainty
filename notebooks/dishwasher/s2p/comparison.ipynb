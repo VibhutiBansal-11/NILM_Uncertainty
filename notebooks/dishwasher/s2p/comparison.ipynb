{
 "cells": [
  {
   "cell_type": "code",
   "execution_count": 1,
   "metadata": {},
   "outputs": [],
   "source": [
    "import matplotlib.pyplot as plt\n",
    "import seaborn as sns\n",
    "from probml_utils import latexify, savefig"
   ]
  },
  {
   "cell_type": "code",
   "execution_count": 2,
   "metadata": {},
   "outputs": [],
   "source": [
    "import pandas as pd"
   ]
  },
  {
   "cell_type": "code",
   "execution_count": 3,
   "metadata": {},
   "outputs": [],
   "source": [
    "mlp = pd.read_csv('mlp/testing_predictions.csv')\n",
    "gmlp = pd.read_csv('gmlp/testing_predictions.csv')"
   ]
  },
  {
   "cell_type": "code",
   "execution_count": 4,
   "metadata": {},
   "outputs": [
    {
     "data": {
      "text/html": [
       "<div>\n",
       "<style scoped>\n",
       "    .dataframe tbody tr th:only-of-type {\n",
       "        vertical-align: middle;\n",
       "    }\n",
       "\n",
       "    .dataframe tbody tr th {\n",
       "        vertical-align: top;\n",
       "    }\n",
       "\n",
       "    .dataframe thead th {\n",
       "        text-align: right;\n",
       "    }\n",
       "</style>\n",
       "<table border=\"1\" class=\"dataframe\">\n",
       "  <thead>\n",
       "    <tr style=\"text-align: right;\">\n",
       "      <th></th>\n",
       "      <th>Timestamp</th>\n",
       "      <th>Ground Truth</th>\n",
       "      <th>mean</th>\n",
       "      <th>sigma</th>\n",
       "      <th>MC_Mean</th>\n",
       "      <th>MC_Sigma</th>\n",
       "      <th>de_Mean</th>\n",
       "      <th>de_Sigma</th>\n",
       "      <th>bs_Mean</th>\n",
       "      <th>bs_Sigma</th>\n",
       "    </tr>\n",
       "  </thead>\n",
       "  <tbody>\n",
       "    <tr>\n",
       "      <th>0</th>\n",
       "      <td>2011-04-21 00:00:00-04:00</td>\n",
       "      <td>0.1250</td>\n",
       "      <td>0.560691</td>\n",
       "      <td>0.455069</td>\n",
       "      <td>0.304496</td>\n",
       "      <td>0.463558</td>\n",
       "      <td>0.488107</td>\n",
       "      <td>0.389192</td>\n",
       "      <td>-1.572591</td>\n",
       "      <td>6.280275</td>\n",
       "    </tr>\n",
       "    <tr>\n",
       "      <th>1</th>\n",
       "      <td>2011-04-21 00:01:00-04:00</td>\n",
       "      <td>0.1250</td>\n",
       "      <td>0.540723</td>\n",
       "      <td>0.452637</td>\n",
       "      <td>0.041602</td>\n",
       "      <td>0.374473</td>\n",
       "      <td>0.481756</td>\n",
       "      <td>0.388740</td>\n",
       "      <td>-1.620432</td>\n",
       "      <td>6.272551</td>\n",
       "    </tr>\n",
       "    <tr>\n",
       "      <th>2</th>\n",
       "      <td>2011-04-21 00:02:00-04:00</td>\n",
       "      <td>0.1250</td>\n",
       "      <td>0.589463</td>\n",
       "      <td>0.453883</td>\n",
       "      <td>-0.036667</td>\n",
       "      <td>0.426977</td>\n",
       "      <td>0.485934</td>\n",
       "      <td>0.388017</td>\n",
       "      <td>-1.552208</td>\n",
       "      <td>6.268858</td>\n",
       "    </tr>\n",
       "    <tr>\n",
       "      <th>3</th>\n",
       "      <td>2011-04-21 00:03:00-04:00</td>\n",
       "      <td>0.0625</td>\n",
       "      <td>0.619394</td>\n",
       "      <td>0.454820</td>\n",
       "      <td>-0.058678</td>\n",
       "      <td>0.320103</td>\n",
       "      <td>0.476148</td>\n",
       "      <td>0.388557</td>\n",
       "      <td>-1.578233</td>\n",
       "      <td>6.271600</td>\n",
       "    </tr>\n",
       "    <tr>\n",
       "      <th>4</th>\n",
       "      <td>2011-04-21 00:04:00-04:00</td>\n",
       "      <td>0.1250</td>\n",
       "      <td>0.582698</td>\n",
       "      <td>0.451035</td>\n",
       "      <td>-0.028519</td>\n",
       "      <td>0.358891</td>\n",
       "      <td>0.473976</td>\n",
       "      <td>0.389868</td>\n",
       "      <td>-1.594788</td>\n",
       "      <td>6.275545</td>\n",
       "    </tr>\n",
       "    <tr>\n",
       "      <th>...</th>\n",
       "      <td>...</td>\n",
       "      <td>...</td>\n",
       "      <td>...</td>\n",
       "      <td>...</td>\n",
       "      <td>...</td>\n",
       "      <td>...</td>\n",
       "      <td>...</td>\n",
       "      <td>...</td>\n",
       "      <td>...</td>\n",
       "      <td>...</td>\n",
       "    </tr>\n",
       "    <tr>\n",
       "      <th>15651</th>\n",
       "      <td>2011-05-01 23:00:00-04:00</td>\n",
       "      <td>0.0000</td>\n",
       "      <td>0.257425</td>\n",
       "      <td>0.477459</td>\n",
       "      <td>-0.201398</td>\n",
       "      <td>0.422441</td>\n",
       "      <td>0.245507</td>\n",
       "      <td>0.423984</td>\n",
       "      <td>-1.776733</td>\n",
       "      <td>6.685898</td>\n",
       "    </tr>\n",
       "    <tr>\n",
       "      <th>15652</th>\n",
       "      <td>2011-05-01 23:01:00-04:00</td>\n",
       "      <td>0.0000</td>\n",
       "      <td>0.232105</td>\n",
       "      <td>0.475600</td>\n",
       "      <td>-0.161404</td>\n",
       "      <td>0.385399</td>\n",
       "      <td>0.230458</td>\n",
       "      <td>0.420967</td>\n",
       "      <td>-1.857508</td>\n",
       "      <td>6.699568</td>\n",
       "    </tr>\n",
       "    <tr>\n",
       "      <th>15653</th>\n",
       "      <td>2011-05-01 23:02:00-04:00</td>\n",
       "      <td>0.0625</td>\n",
       "      <td>0.194375</td>\n",
       "      <td>0.475994</td>\n",
       "      <td>-0.104502</td>\n",
       "      <td>0.481986</td>\n",
       "      <td>0.214617</td>\n",
       "      <td>0.419119</td>\n",
       "      <td>-1.802611</td>\n",
       "      <td>6.714696</td>\n",
       "    </tr>\n",
       "    <tr>\n",
       "      <th>15654</th>\n",
       "      <td>2011-05-01 23:03:00-04:00</td>\n",
       "      <td>0.1250</td>\n",
       "      <td>0.224032</td>\n",
       "      <td>0.474981</td>\n",
       "      <td>-0.118514</td>\n",
       "      <td>0.447761</td>\n",
       "      <td>0.196403</td>\n",
       "      <td>0.412692</td>\n",
       "      <td>-1.949037</td>\n",
       "      <td>6.701703</td>\n",
       "    </tr>\n",
       "    <tr>\n",
       "      <th>15655</th>\n",
       "      <td>2011-05-01 23:04:00-04:00</td>\n",
       "      <td>0.1000</td>\n",
       "      <td>0.186297</td>\n",
       "      <td>0.470991</td>\n",
       "      <td>-0.059543</td>\n",
       "      <td>0.434137</td>\n",
       "      <td>0.173081</td>\n",
       "      <td>0.405272</td>\n",
       "      <td>-2.034329</td>\n",
       "      <td>6.654058</td>\n",
       "    </tr>\n",
       "  </tbody>\n",
       "</table>\n",
       "<p>15656 rows × 10 columns</p>\n",
       "</div>"
      ],
      "text/plain": [
       "                       Timestamp  Ground Truth      mean     sigma   MC_Mean  \\\n",
       "0      2011-04-21 00:00:00-04:00        0.1250  0.560691  0.455069  0.304496   \n",
       "1      2011-04-21 00:01:00-04:00        0.1250  0.540723  0.452637  0.041602   \n",
       "2      2011-04-21 00:02:00-04:00        0.1250  0.589463  0.453883 -0.036667   \n",
       "3      2011-04-21 00:03:00-04:00        0.0625  0.619394  0.454820 -0.058678   \n",
       "4      2011-04-21 00:04:00-04:00        0.1250  0.582698  0.451035 -0.028519   \n",
       "...                          ...           ...       ...       ...       ...   \n",
       "15651  2011-05-01 23:00:00-04:00        0.0000  0.257425  0.477459 -0.201398   \n",
       "15652  2011-05-01 23:01:00-04:00        0.0000  0.232105  0.475600 -0.161404   \n",
       "15653  2011-05-01 23:02:00-04:00        0.0625  0.194375  0.475994 -0.104502   \n",
       "15654  2011-05-01 23:03:00-04:00        0.1250  0.224032  0.474981 -0.118514   \n",
       "15655  2011-05-01 23:04:00-04:00        0.1000  0.186297  0.470991 -0.059543   \n",
       "\n",
       "       MC_Sigma   de_Mean  de_Sigma   bs_Mean  bs_Sigma  \n",
       "0      0.463558  0.488107  0.389192 -1.572591  6.280275  \n",
       "1      0.374473  0.481756  0.388740 -1.620432  6.272551  \n",
       "2      0.426977  0.485934  0.388017 -1.552208  6.268858  \n",
       "3      0.320103  0.476148  0.388557 -1.578233  6.271600  \n",
       "4      0.358891  0.473976  0.389868 -1.594788  6.275545  \n",
       "...         ...       ...       ...       ...       ...  \n",
       "15651  0.422441  0.245507  0.423984 -1.776733  6.685898  \n",
       "15652  0.385399  0.230458  0.420967 -1.857508  6.699568  \n",
       "15653  0.481986  0.214617  0.419119 -1.802611  6.714696  \n",
       "15654  0.447761  0.196403  0.412692 -1.949037  6.701703  \n",
       "15655  0.434137  0.173081  0.405272 -2.034329  6.654058  \n",
       "\n",
       "[15656 rows x 10 columns]"
      ]
     },
     "execution_count": 4,
     "metadata": {},
     "output_type": "execute_result"
    }
   ],
   "source": [
    "gmlp"
   ]
  },
  {
   "cell_type": "code",
   "execution_count": 5,
   "metadata": {},
   "outputs": [],
   "source": [
    "os.chdir('../../../')\n",
    "from utilities import errors"
   ]
  },
  {
   "cell_type": "code",
   "execution_count": 6,
   "metadata": {},
   "outputs": [
    {
     "name": "stderr",
     "output_type": "stream",
     "text": [
      "WARNING:absl:No GPU/TPU found, falling back to CPU. (Set TF_CPP_MIN_LOG_LEVEL=0 and rerun for more info.)\n"
     ]
    }
   ],
   "source": [
    "e1=errors.mae(mlp['Ground Truth'].values,mlp['mean'].values)\n",
    "e2=errors.mae(gmlp['Ground Truth'].values,gmlp['MC_Mean'].values)"
   ]
  },
  {
   "cell_type": "code",
   "execution_count": 7,
   "metadata": {},
   "outputs": [],
   "source": [
    "timestamp = pd.to_datetime(mlp['Timestamp']).dt.strftime('%Y-%m-%d')"
   ]
  },
  {
   "cell_type": "code",
   "execution_count": 8,
   "metadata": {},
   "outputs": [
    {
     "data": {
      "text/plain": [
       "0        2011-04-21\n",
       "1        2011-04-21\n",
       "2        2011-04-21\n",
       "3        2011-04-21\n",
       "4        2011-04-21\n",
       "            ...    \n",
       "15651    2011-05-01\n",
       "15652    2011-05-01\n",
       "15653    2011-05-01\n",
       "15654    2011-05-01\n",
       "15655    2011-05-01\n",
       "Name: Timestamp, Length: 15656, dtype: object"
      ]
     },
     "execution_count": 8,
     "metadata": {},
     "output_type": "execute_result"
    }
   ],
   "source": [
    "timestamp"
   ]
  },
  {
   "cell_type": "code",
   "execution_count": 9,
   "metadata": {},
   "outputs": [
    {
     "data": {
      "text/plain": [
       "0        0.1250\n",
       "1        0.1250\n",
       "2        0.1250\n",
       "3        0.0625\n",
       "4        0.1250\n",
       "          ...  \n",
       "15651    0.0000\n",
       "15652    0.0000\n",
       "15653    0.0625\n",
       "15654    0.1250\n",
       "15655    0.1000\n",
       "Name: Ground Truth, Length: 15656, dtype: float64"
      ]
     },
     "execution_count": 9,
     "metadata": {},
     "output_type": "execute_result"
    }
   ],
   "source": [
    "mlp['Ground Truth']"
   ]
  },
  {
   "cell_type": "code",
   "execution_count": 10,
   "metadata": {},
   "outputs": [],
   "source": [
    "import jax.numpy as jnp\n",
    "import os\n",
    "os.environ['LATEXIFY']='1'"
   ]
  },
  {
   "cell_type": "code",
   "execution_count": 11,
   "metadata": {},
   "outputs": [
    {
     "data": {
      "text/plain": [
       "['.git',\n",
       " '.gitignore',\n",
       " 'Architectures.md',\n",
       " 'datasets',\n",
       " 'FIGURES',\n",
       " 'models',\n",
       " 'notebooks',\n",
       " 'README.md',\n",
       " 'utilities']"
      ]
     },
     "execution_count": 11,
     "metadata": {},
     "output_type": "execute_result"
    }
   ],
   "source": [
    "os.listdir()"
   ]
  },
  {
   "cell_type": "code",
   "execution_count": 12,
   "metadata": {},
   "outputs": [],
   "source": [
    "os.environ['FIG_DIR']='FIGURES/'"
   ]
  },
  {
   "cell_type": "code",
   "execution_count": 13,
   "metadata": {},
   "outputs": [],
   "source": [
    "latexify(fig_width=7/2)"
   ]
  },
  {
   "cell_type": "code",
   "execution_count": 17,
   "metadata": {},
   "outputs": [
    {
     "name": "stderr",
     "output_type": "stream",
     "text": [
      "/tmp/ipykernel_1041/878857877.py:22: UserWarning: Tight layout not applied. The bottom and top margins cannot be made large enough to accommodate all axes decorations.\n",
      "  plt.tight_layout(pad=1)\n",
      "/home/rohit_khoiwal/anaconda3/lib/python3.9/site-packages/probml_utils/plotting.py:93: UserWarning: Tight layout not applied. The bottom and top margins cannot be made large enough to accommodate all axes decorations.\n",
      "  plt.tight_layout(pad=pad_inches)\n"
     ]
    },
    {
     "name": "stdout",
     "output_type": "stream",
     "text": [
      "saving image to FIGURES/comparison_dishwasher_latexified.pdf\n",
      "Figure size: [3.5 1.5]\n"
     ]
    },
    {
     "data": {
      "image/png": "[encoded data removed]",
      "text/plain": [
       "<Figure size 252x108 with 2 Axes>"
      ]
     },
     "metadata": {
      "needs_background": "light"
     },
     "output_type": "display_data"
    }
   ],
   "source": [
    "fig,(a,b)=plt.subplots(1,2, sharey=True)\n",
    "a.plot(mlp['Ground Truth'],label='y', alpha=0.5)\n",
    "a.plot(mlp['mean'],label='$\\hat{y}$',color='orange')\n",
    "b.plot(gmlp['Ground Truth'],label='Ground Truth', alpha=0.5)\n",
    "\n",
    "b.plot(gmlp['MC_Sigma'],color='green',label='Sigma')\n",
    "b.plot(gmlp['MC_Mean'],color='orange',label='Mean')\n",
    "lgd = b.legend(bbox_to_anchor=(1.04,1.65),ncol=3)\n",
    "a.set_title(f'HOMO S2P NN\\nMAE: {e1:.2f}')\n",
    "b.set_title(f'HETERO S2P MC\\nMAE: {e2:.2f}')\n",
    "\n",
    "a.set_xticks(jnp.arange(0, len(timestamp), 4000), labels=timestamp.values[::4000])\n",
    "b.set_xticks(jnp.arange(0, len(timestamp), 4000), labels=timestamp.values[::4000])\n",
    "a.tick_params(axis='x',rotation=60)\n",
    "b.tick_params(axis='x',rotation=60)\n",
    "# a.set_ylim([0,1250])\n",
    "# b.set_ylim([0,1250])\n",
    "a.set_xlabel('(a)')\n",
    "b.set_xlabel('(b)')\n",
    "a.set_ylabel('Power (W)')\n",
    "sns.despine()\n",
    "plt.tight_layout(pad=1)\n",
    "savefig('comparison_dishwasher',bbox_extra_artists=(lgd,),bbox_inches='tight')"
   ]
  },
  {
   "cell_type": "code",
   "execution_count": 15,
   "metadata": {},
   "outputs": [
    {
     "data": {
      "text/plain": [
       "0        2011-04-21\n",
       "1        2011-04-21\n",
       "2        2011-04-21\n",
       "3        2011-04-21\n",
       "4        2011-04-21\n",
       "            ...    \n",
       "15651    2011-05-01\n",
       "15652    2011-05-01\n",
       "15653    2011-05-01\n",
       "15654    2011-05-01\n",
       "15655    2011-05-01\n",
       "Name: Timestamp, Length: 15656, dtype: object"
      ]
     },
     "execution_count": 15,
     "metadata": {},
     "output_type": "execute_result"
    }
   ],
   "source": [
    "timestamp"
   ]
  },
  {
   "cell_type": "code",
   "execution_count": null,
   "metadata": {},
   "outputs": [],
   "source": []
  }
 ],
 "metadata": {
  "kernelspec": {
   "display_name": "Python 3.9.12 ('base')",
   "language": "python",
   "name": "python3"
  },
  "language_info": {
   "codemirror_mode": {
    "name": "ipython",
    "version": 3
   },
   "file_extension": ".py",
   "mimetype": "text/x-python",
   "name": "python",
   "nbconvert_exporter": "python",
   "pygments_lexer": "ipython3",
   "version": "3.9.12"
  },
  "orig_nbformat": 4,
  "vscode": {
   "interpreter": {
    "hash": "426e15868e84099aa24e2e1c7b02d116bea520d7179d867cd89f11c91c6cb720"
   }
  }
 },
 "nbformat": 4,
 "nbformat_minor": 2
}
