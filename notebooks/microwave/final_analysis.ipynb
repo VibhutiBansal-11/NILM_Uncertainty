{
 "cells": [
  {
   "cell_type": "markdown",
   "metadata": {},
   "source": [
    "# Importing Libraries and predictions"
   ]
  },
  {
   "cell_type": "code",
   "execution_count": 1,
   "metadata": {},
   "outputs": [],
   "source": [
    "import pandas as pd\n",
    "import matplotlib.pyplot as plt\n",
    "import seaborn as sns\n",
    "import jax.numpy as jnp\n",
    "import os\n",
    "os.chdir('../../')\n",
    "from utilities import plot,errors\n",
    "from datetime import datetime\n",
    "\n",
    "import tensorflow_probability.substrates.jax as tfp\n",
    "import jax.numpy as jnp\n",
    "import jax\n",
    "dist = tfp.distributions\n",
    "from utilities import recalibration\n",
    "import matplotlib.lines as mlines\n",
    "import matplotlib.patches as mpatches"
   ]
  },
  {
   "cell_type": "code",
   "execution_count": 2,
   "metadata": {},
   "outputs": [],
   "source": [
    "from probml_utils import latexify,savefig"
   ]
  },
  {
   "cell_type": "code",
   "execution_count": 3,
   "metadata": {},
   "outputs": [],
   "source": [
    "os.environ['CUDA_VISIBLE_DEVICES']=str(3)"
   ]
  },
  {
   "cell_type": "code",
   "execution_count": 4,
   "metadata": {},
   "outputs": [
    {
     "name": "stdout",
     "output_type": "stream",
     "text": [
      "env: LATEXIFY=1\n",
      "env: FIG_DIR=/home/desai.aadesh/temp/NILM_Uncertainty/figures\n"
     ]
    }
   ],
   "source": [
    "%env LATEXIFY=1\n",
    "%env FIG_DIR=/home/desai.aadesh/temp/NILM_Uncertainty/figures"
   ]
  },
  {
   "cell_type": "code",
   "execution_count": 5,
   "metadata": {},
   "outputs": [],
   "source": [
    "os.chdir('notebooks/microwave')"
   ]
  },
  {
   "cell_type": "code",
   "execution_count": 6,
   "metadata": {},
   "outputs": [],
   "source": [
    "s2p_mlp_training = pd.read_csv('s2p/mlp/training_predictions.csv')\n",
    "s2p_mlp_testing = pd.read_csv('s2p/mlp/testing_predictions.csv')\n",
    "s2p_gmlp_training = pd.read_csv('s2p/gmlp/training_predictions.csv')\n",
    "s2p_gmlp_testing = pd.read_csv('s2p/gmlp/testing_predictions.csv')"
   ]
  },
  {
   "cell_type": "code",
   "execution_count": 7,
   "metadata": {},
   "outputs": [],
   "source": [
    "lstm_mlp_training = pd.read_csv('lstm/mlp/training_predictions.csv')\n",
    "lstm_mlp_testing = pd.read_csv('lstm/mlp/testing_predictions.csv')\n",
    "lstm_gmlp_training = pd.read_csv('lstm/gmlp/training_predictions.csv')\n",
    "lstm_gmlp_testing = pd.read_csv('lstm/gmlp/testing_predictions.csv')"
   ]
  },
  {
   "cell_type": "code",
   "execution_count": 8,
   "metadata": {},
   "outputs": [],
   "source": [
    "s2p_mlp_recal = pd.read_csv('s2p/mlp/recalibration_df.csv')\n",
    "s2p_gmlp_recal = pd.read_csv('s2p/gmlp/recalibration_df.csv')\n",
    "lstm_mlp_recal=pd.read_csv('lstm/mlp/recalibration_df.csv')\n",
    "lstm_gmlp_recal=pd.read_csv('lstm/gmlp/recalibration_df.csv')"
   ]
  },
  {
   "cell_type": "code",
   "execution_count": 9,
   "metadata": {},
   "outputs": [],
   "source": [
    "s2p_mlp_training.columns = map(str.lower, s2p_mlp_training.columns)\n",
    "s2p_mlp_testing.columns = map(str.lower, s2p_mlp_testing.columns)\n",
    "s2p_gmlp_training.columns = map(str.lower, s2p_gmlp_training.columns)\n",
    "s2p_gmlp_testing.columns = map(str.lower, s2p_gmlp_testing.columns)"
   ]
  },
  {
   "cell_type": "code",
   "execution_count": 10,
   "metadata": {},
   "outputs": [],
   "source": [
    "lstm_mlp_training.columns = map(str.lower, lstm_mlp_training.columns)\n",
    "lstm_mlp_testing.columns = map(str.lower, lstm_mlp_testing.columns)\n",
    "lstm_gmlp_training.columns = map(str.lower, lstm_gmlp_training.columns)\n",
    "lstm_gmlp_testing.columns = map(str.lower, lstm_gmlp_testing.columns)"
   ]
  },
  {
   "cell_type": "markdown",
   "metadata": {},
   "source": [
    "# Define Functions"
   ]
  },
  {
   "cell_type": "code",
   "execution_count": 11,
   "metadata": {},
   "outputs": [],
   "source": [
    "\n",
    "def rmse_(dataframe):\n",
    "    def rmse_loss(y,yhat):\n",
    "      return (y-yhat)**2\n",
    "    return jnp.mean(jax.vmap(rmse_loss,in_axes=(0,0))(dataframe['Ideal'].values,dataframe['Counts'].values))\n",
    "def mae_(dataframe):\n",
    "    def mae(y,yhat):\n",
    "      return jnp.abs(y-yhat)\n",
    "    return jnp.mean(jax.vmap(mae,in_axes=(0,0))(dataframe['p'].values,dataframe['p_hat'].values))\n",
    "def mae1(y,yhat):\n",
    "    def mae(y,yhat):\n",
    "      return jnp.abs(y-yhat)\n",
    "    return jnp.mean(jax.vmap(mae,in_axes=(0,0))(y,yhat))\n",
    "def NLL(mean,sigma,y):\n",
    "    def loss_fn(mean, sigma, y):\n",
    "      d = dist.Normal(loc=mean, scale=sigma)\n",
    "      return -d.log_prob(y)\n",
    "    return jnp.mean(jax.vmap(loss_fn, in_axes=(0, 0, 0))(mean, sigma, y))\n",
    "\n",
    "def plot_predictions(y_true,mean,sigma):\n",
    "    idx1 = 0\n",
    "    idx2 = -1\n",
    "    fig, ax = plt.subplots(2, 2, figsize=(18,10))\n",
    "    ax = ax.ravel()\n",
    "    ax[0].plot(y_true[idx1:idx2], label=\"True\")\n",
    "    ax[1].plot(mean[idx1:idx2], label=f\"$\\mu$ Predicted\", color=\"orange\")\n",
    "    ax[2].plot(y_true[idx1:idx2], label=\"True\")\n",
    "    ax[2].plot(mean[idx1:idx2], label=f\"$\\mu$ Predicted\", color=\"orange\")\n",
    "    #ax[3].plot(y_true[idx1:idx2], label=\"True\", alpha=0.7)\n",
    "    ax[3].plot(sigma[idx1:idx2], label=f\"$\\sigma$ Predicted\", color=\"green\")\n",
    "    ax[0].legend(fontsize=15, bbox_to_anchor=(0.5,1))\n",
    "    ax[1].legend(fontsize=15, bbox_to_anchor=(0.5,1))\n",
    "    ax[2].legend(fontsize=15, bbox_to_anchor=(0.5,1))\n",
    "    ax[3].legend(fontsize=15, bbox_to_anchor=(0.5,1))\n",
    "    sns.despine()\n"
   ]
  },
  {
   "cell_type": "code",
   "execution_count": 12,
   "metadata": {},
   "outputs": [],
   "source": [
    "import scipy.stats as st\n",
    "def calibrate(mean, sigma, Y):\n",
    "    df = pd.DataFrame()\n",
    "    df[\"mean\"] = mean\n",
    "    df[\"sigma\"] = sigma\n",
    "    df[\"Y\"] = Y\n",
    "    df[\"z\"] = (df[\"Y\"] - df[\"mean\"]) / df[\"sigma\"]\n",
    "    df[\"perc\"] = st.norm.cdf(df[\"z\"])\n",
    "    k = jnp.arange(0, 1.1, 0.1)\n",
    "    counts = []\n",
    "    df2 = pd.DataFrame()\n",
    "    df2[\"Interval\"] = k\n",
    "    df2[\"Ideal\"] = k\n",
    "    for i in range(0, 11):\n",
    "        l = df[df[\"perc\"] < 0.5 + i * 0.05]\n",
    "        l = l[l[\"perc\"] >= 0.5 - i * 0.05]\n",
    "        counts.append(len(l) / len(df))\n",
    "    df2[\"Counts\"] = counts\n",
    "    return df2"
   ]
  },
  {
   "cell_type": "code",
   "execution_count": 13,
   "metadata": {},
   "outputs": [],
   "source": [
    "def something2(tr_df,te_df,recal_df):\n",
    "    for i,j in zip(grp,grp2):\n",
    "        try:\n",
    "            q = tr_df[i+'sigma']\n",
    "            tr_nll.append(errors.NLL(tr_df[i+'mean'].values,tr_df[i+'sigma'].values,tr_df['ground truth'].values))\n",
    "            te_nll.append(errors.NLL(te_df[i+'mean'].values,te_df[i+'sigma'].values,te_df['ground truth'].values))\n",
    "            df =  recalibration.find_p_hat_(tr_df['ground truth'].values,tr_df[i+'mean'].values,tr_df[i+'sigma'].values) \n",
    "            tr_ce.append(mae_(df))\n",
    "            df1 =  recalibration.find_p_hat_(te_df['ground truth'].values,te_df[i+'mean'].values,te_df[i+'sigma'].values) \n",
    "            te_ce.append(mae_(df1))\n",
    "            te_rce.append(mae1(recal_df['p'].values,recal_df['new_phat'+j].values))\n",
    "            \n",
    "        except KeyError:\n",
    "            # print(KeyError.args)\n",
    "            tr_nll.append(0)\n",
    "            te_nll.append(0)\n",
    "            tr_ce.append(0)\n",
    "            # tr_l2_ce.append(0)\n",
    "            te_ce.append(0)\n",
    "            te_rce.append(0)\n",
    "            # te_l2_ce.append(0)\n",
    "            # pass\n",
    "            \n",
    "\n",
    "def something(tr_df,te_df):\n",
    "    for i in grp:\n",
    "        \n",
    "            tr_rmse.append((errors.rmse(tr_df['ground truth'].values,tr_df[i+'mean'].values)))\n",
    "            te_rmse.append((errors.rmse(te_df['ground truth'].values,te_df[i+'mean'].values)))\n",
    "            tr_mae.append((errors.mae(tr_df['ground truth'].values,tr_df[i+'mean'].values)))\n",
    "            te_mae.append((errors.mae(te_df['ground truth'].values,te_df[i+'mean'].values)))\n",
    "\n"
   ]
  },
  {
   "cell_type": "markdown",
   "metadata": {},
   "source": [
    "# Table"
   ]
  },
  {
   "cell_type": "code",
   "execution_count": 14,
   "metadata": {},
   "outputs": [],
   "source": [
    "metric  =pd.DataFrame({'approach':[],'Tr_mae':[],'Te_mae':[],'Tr_rmse':[],'Te_rmse':[],'Tr_nll':[],'Te_nll':[],\n",
    "'Tr_ce':[],'Te_ce':[],'Te_rce':[]})\n",
    "row1 = {'approach':['s2p','s2p+mc','s2p+de','s2p+bs','gs2p','gs2p+mc','gs2p+de','gs2p+bs',\n",
    "'lstm','lstm+mc','lstm+de','lstm+bs','glstm','glstm+mc','glstm+de','glstm+bs']}\n",
    "grp = ['','mc_','de_','bs_']\n",
    "grp2 = ['','_mc','_de','_bs']\n",
    "tr_rmse,te_rmse = [],[]\n",
    "tr_mae,te_mae = [],[]\n",
    "tr_nll,te_nll = [],[]\n",
    "tr_ce,te_ce,te_rce = [],[],[]\n",
    "row1 = pd.DataFrame(row1)\n",
    "metric = pd.concat([metric,row1],ignore_index=True)\n"
   ]
  },
  {
   "cell_type": "code",
   "execution_count": 15,
   "metadata": {},
   "outputs": [],
   "source": [
    "something(s2p_mlp_training,s2p_mlp_testing)\n",
    "something(s2p_gmlp_training,s2p_gmlp_testing)\n",
    "something(lstm_mlp_training,lstm_mlp_testing)\n",
    "something(lstm_gmlp_training,lstm_gmlp_testing)\n",
    "something2(s2p_mlp_training,s2p_mlp_testing,s2p_mlp_recal)\n",
    "something2(s2p_gmlp_training,s2p_gmlp_testing,s2p_gmlp_recal)\n",
    "something2(lstm_mlp_training,lstm_mlp_testing,lstm_mlp_recal)\n",
    "something2(lstm_gmlp_training,lstm_gmlp_testing,lstm_gmlp_recal)\n",
    "metric['Tr_rmse']=tr_rmse\n",
    "metric['Te_rmse']=te_rmse\n",
    "metric['Tr_mae']=tr_mae\n",
    "metric['Te_mae']=te_mae\n",
    "metric['Tr_nll']=tr_nll\n",
    "metric['Te_nll']=te_nll\n",
    "metric['Tr_ce']=tr_ce\n",
    "metric['Te_ce']=te_ce\t\n",
    "metric['Te_rce']=te_rce\t\n",
    "\t"
   ]
  },
  {
   "cell_type": "code",
   "execution_count": 16,
   "metadata": {},
   "outputs": [
    {
     "data": {
      "text/html": [
       "<div>\n",
       "<style scoped>\n",
       "    .dataframe tbody tr th:only-of-type {\n",
       "        vertical-align: middle;\n",
       "    }\n",
       "\n",
       "    .dataframe tbody tr th {\n",
       "        vertical-align: top;\n",
       "    }\n",
       "\n",
       "    .dataframe thead th {\n",
       "        text-align: right;\n",
       "    }\n",
       "</style>\n",
       "<table border=\"1\" class=\"dataframe\">\n",
       "  <thead>\n",
       "    <tr style=\"text-align: right;\">\n",
       "      <th></th>\n",
       "      <th>approach</th>\n",
       "      <th>Tr_mae</th>\n",
       "      <th>Te_mae</th>\n",
       "      <th>Tr_rmse</th>\n",
       "      <th>Te_rmse</th>\n",
       "      <th>Tr_nll</th>\n",
       "      <th>Te_nll</th>\n",
       "      <th>Tr_ce</th>\n",
       "      <th>Te_ce</th>\n",
       "      <th>Te_rce</th>\n",
       "    </tr>\n",
       "  </thead>\n",
       "  <tbody>\n",
       "    <tr>\n",
       "      <th>0</th>\n",
       "      <td>s2p</td>\n",
       "      <td>2.663438</td>\n",
       "      <td>11.185807</td>\n",
       "      <td>21.998465</td>\n",
       "      <td>79.72998</td>\n",
       "      <td>0</td>\n",
       "      <td>0</td>\n",
       "      <td>0</td>\n",
       "      <td>0</td>\n",
       "      <td>0</td>\n",
       "    </tr>\n",
       "    <tr>\n",
       "      <th>1</th>\n",
       "      <td>s2p+mc</td>\n",
       "      <td>2.728726</td>\n",
       "      <td>11.174247</td>\n",
       "      <td>21.450102</td>\n",
       "      <td>79.869736</td>\n",
       "      <td>6002372000000.0</td>\n",
       "      <td>611580000000000.0</td>\n",
       "      <td>0.47076687</td>\n",
       "      <td>0.4779978</td>\n",
       "      <td>0.45367867</td>\n",
       "    </tr>\n",
       "    <tr>\n",
       "      <th>2</th>\n",
       "      <td>s2p+de</td>\n",
       "      <td>2.1759636</td>\n",
       "      <td>11.16834</td>\n",
       "      <td>14.281735</td>\n",
       "      <td>78.379105</td>\n",
       "      <td>14.269387</td>\n",
       "      <td>1716.8419</td>\n",
       "      <td>0.39734286</td>\n",
       "      <td>0.43984994</td>\n",
       "      <td>0.35460818</td>\n",
       "    </tr>\n",
       "    <tr>\n",
       "      <th>3</th>\n",
       "      <td>s2p+bs</td>\n",
       "      <td>2.9391656</td>\n",
       "      <td>11.254164</td>\n",
       "      <td>24.874496</td>\n",
       "      <td>77.65649</td>\n",
       "      <td>2.0234873</td>\n",
       "      <td>151.13048</td>\n",
       "      <td>0.17084645</td>\n",
       "      <td>0.3071165</td>\n",
       "      <td>0.17777275</td>\n",
       "    </tr>\n",
       "    <tr>\n",
       "      <th>4</th>\n",
       "      <td>gs2p</td>\n",
       "      <td>7.6596727</td>\n",
       "      <td>12.463739</td>\n",
       "      <td>88.40875</td>\n",
       "      <td>101.65248</td>\n",
       "      <td>1.4506959</td>\n",
       "      <td>95.31384</td>\n",
       "      <td>0.06553606</td>\n",
       "      <td>0.03083296</td>\n",
       "      <td>0.07791727</td>\n",
       "    </tr>\n",
       "    <tr>\n",
       "      <th>5</th>\n",
       "      <td>gs2p+mc</td>\n",
       "      <td>7.415057</td>\n",
       "      <td>12.560314</td>\n",
       "      <td>88.67214</td>\n",
       "      <td>101.8656</td>\n",
       "      <td>1.3349643</td>\n",
       "      <td>100.87583</td>\n",
       "      <td>0.18322179</td>\n",
       "      <td>0.05107743</td>\n",
       "      <td>0.18038927</td>\n",
       "    </tr>\n",
       "    <tr>\n",
       "      <th>6</th>\n",
       "      <td>gs2p+de</td>\n",
       "      <td>16.585327</td>\n",
       "      <td>12.660792</td>\n",
       "      <td>90.76361</td>\n",
       "      <td>100.99494</td>\n",
       "      <td>2.8085604</td>\n",
       "      <td>18.464138</td>\n",
       "      <td>0.26001516</td>\n",
       "      <td>0.20563352</td>\n",
       "      <td>0.06439431</td>\n",
       "    </tr>\n",
       "    <tr>\n",
       "      <th>7</th>\n",
       "      <td>gs2p+bs</td>\n",
       "      <td>8.017902</td>\n",
       "      <td>13.274323</td>\n",
       "      <td>88.26325</td>\n",
       "      <td>101.55706</td>\n",
       "      <td>3.2374196</td>\n",
       "      <td>5.260253</td>\n",
       "      <td>0.4116837</td>\n",
       "      <td>0.2237039</td>\n",
       "      <td>0.3549817</td>\n",
       "    </tr>\n",
       "    <tr>\n",
       "      <th>8</th>\n",
       "      <td>lstm</td>\n",
       "      <td>7.384625</td>\n",
       "      <td>16.769405</td>\n",
       "      <td>43.665623</td>\n",
       "      <td>88.360176</td>\n",
       "      <td>0</td>\n",
       "      <td>0</td>\n",
       "      <td>0</td>\n",
       "      <td>0</td>\n",
       "      <td>0</td>\n",
       "    </tr>\n",
       "    <tr>\n",
       "      <th>9</th>\n",
       "      <td>lstm+mc</td>\n",
       "      <td>7.420004</td>\n",
       "      <td>16.778498</td>\n",
       "      <td>43.671787</td>\n",
       "      <td>88.369156</td>\n",
       "      <td>121.93306</td>\n",
       "      <td>2197.4915</td>\n",
       "      <td>0.27544808</td>\n",
       "      <td>0.4374076</td>\n",
       "      <td>0.2570262</td>\n",
       "    </tr>\n",
       "    <tr>\n",
       "      <th>10</th>\n",
       "      <td>lstm+de</td>\n",
       "      <td>6.8880124</td>\n",
       "      <td>15.606329</td>\n",
       "      <td>45.865765</td>\n",
       "      <td>87.89607</td>\n",
       "      <td>8.167196</td>\n",
       "      <td>160.63333</td>\n",
       "      <td>0.18633878</td>\n",
       "      <td>0.34257656</td>\n",
       "      <td>0.16755366</td>\n",
       "    </tr>\n",
       "    <tr>\n",
       "      <th>11</th>\n",
       "      <td>lstm+bs</td>\n",
       "      <td>6.8112826</td>\n",
       "      <td>14.801954</td>\n",
       "      <td>44.811184</td>\n",
       "      <td>87.75913</td>\n",
       "      <td>3.6772795</td>\n",
       "      <td>84.45566</td>\n",
       "      <td>0.042446315</td>\n",
       "      <td>0.117853545</td>\n",
       "      <td>0.15101917</td>\n",
       "    </tr>\n",
       "    <tr>\n",
       "      <th>12</th>\n",
       "      <td>glstm</td>\n",
       "      <td>8.3527775</td>\n",
       "      <td>12.606739</td>\n",
       "      <td>89.88978</td>\n",
       "      <td>103.02611</td>\n",
       "      <td>2.3135276</td>\n",
       "      <td>54.70028</td>\n",
       "      <td>0.09561016</td>\n",
       "      <td>0.119957894</td>\n",
       "      <td>0.14393221</td>\n",
       "    </tr>\n",
       "    <tr>\n",
       "      <th>13</th>\n",
       "      <td>glstm+mc</td>\n",
       "      <td>8.375047</td>\n",
       "      <td>12.618676</td>\n",
       "      <td>89.88686</td>\n",
       "      <td>103.036064</td>\n",
       "      <td>2.3561969</td>\n",
       "      <td>38.63324</td>\n",
       "      <td>0.08131536</td>\n",
       "      <td>0.14861593</td>\n",
       "      <td>0.12331372</td>\n",
       "    </tr>\n",
       "    <tr>\n",
       "      <th>14</th>\n",
       "      <td>glstm+de</td>\n",
       "      <td>8.143539</td>\n",
       "      <td>12.811283</td>\n",
       "      <td>90.13333</td>\n",
       "      <td>103.14378</td>\n",
       "      <td>2.397465</td>\n",
       "      <td>28.285223</td>\n",
       "      <td>0.12972258</td>\n",
       "      <td>0.11083001</td>\n",
       "      <td>0.13831495</td>\n",
       "    </tr>\n",
       "    <tr>\n",
       "      <th>15</th>\n",
       "      <td>glstm+bs</td>\n",
       "      <td>9.457887</td>\n",
       "      <td>13.059496</td>\n",
       "      <td>90.11769</td>\n",
       "      <td>103.10087</td>\n",
       "      <td>2.5667794</td>\n",
       "      <td>42.45472</td>\n",
       "      <td>0.108481206</td>\n",
       "      <td>0.046309207</td>\n",
       "      <td>0.111753136</td>\n",
       "    </tr>\n",
       "  </tbody>\n",
       "</table>\n",
       "</div>"
      ],
      "text/plain": [
       "    approach     Tr_mae     Te_mae    Tr_rmse     Te_rmse           Tr_nll  \\\n",
       "0        s2p   2.663438  11.185807  21.998465    79.72998                0   \n",
       "1     s2p+mc   2.728726  11.174247  21.450102   79.869736  6002372000000.0   \n",
       "2     s2p+de  2.1759636   11.16834  14.281735   78.379105        14.269387   \n",
       "3     s2p+bs  2.9391656  11.254164  24.874496    77.65649        2.0234873   \n",
       "4       gs2p  7.6596727  12.463739   88.40875   101.65248        1.4506959   \n",
       "5    gs2p+mc   7.415057  12.560314   88.67214    101.8656        1.3349643   \n",
       "6    gs2p+de  16.585327  12.660792   90.76361   100.99494        2.8085604   \n",
       "7    gs2p+bs   8.017902  13.274323   88.26325   101.55706        3.2374196   \n",
       "8       lstm   7.384625  16.769405  43.665623   88.360176                0   \n",
       "9    lstm+mc   7.420004  16.778498  43.671787   88.369156        121.93306   \n",
       "10   lstm+de  6.8880124  15.606329  45.865765    87.89607         8.167196   \n",
       "11   lstm+bs  6.8112826  14.801954  44.811184    87.75913        3.6772795   \n",
       "12     glstm  8.3527775  12.606739   89.88978   103.02611        2.3135276   \n",
       "13  glstm+mc   8.375047  12.618676   89.88686  103.036064        2.3561969   \n",
       "14  glstm+de   8.143539  12.811283   90.13333   103.14378         2.397465   \n",
       "15  glstm+bs   9.457887  13.059496   90.11769   103.10087        2.5667794   \n",
       "\n",
       "               Te_nll        Tr_ce        Te_ce       Te_rce  \n",
       "0                   0            0            0            0  \n",
       "1   611580000000000.0   0.47076687    0.4779978   0.45367867  \n",
       "2           1716.8419   0.39734286   0.43984994   0.35460818  \n",
       "3           151.13048   0.17084645    0.3071165   0.17777275  \n",
       "4            95.31384   0.06553606   0.03083296   0.07791727  \n",
       "5           100.87583   0.18322179   0.05107743   0.18038927  \n",
       "6           18.464138   0.26001516   0.20563352   0.06439431  \n",
       "7            5.260253    0.4116837    0.2237039    0.3549817  \n",
       "8                   0            0            0            0  \n",
       "9           2197.4915   0.27544808    0.4374076    0.2570262  \n",
       "10          160.63333   0.18633878   0.34257656   0.16755366  \n",
       "11           84.45566  0.042446315  0.117853545   0.15101917  \n",
       "12           54.70028   0.09561016  0.119957894   0.14393221  \n",
       "13           38.63324   0.08131536   0.14861593   0.12331372  \n",
       "14          28.285223   0.12972258   0.11083001   0.13831495  \n",
       "15           42.45472  0.108481206  0.046309207  0.111753136  "
      ]
     },
     "execution_count": 16,
     "metadata": {},
     "output_type": "execute_result"
    }
   ],
   "source": [
    "metric"
   ]
  },
  {
   "cell_type": "markdown",
   "metadata": {},
   "source": [
    "# Analysis"
   ]
  },
  {
   "cell_type": "code",
   "execution_count": 17,
   "metadata": {},
   "outputs": [
    {
     "data": {
      "image/png": "[encoded data removed]",
      "text/plain": [
       "<Figure size 432x288 with 1 Axes>"
      ]
     },
     "metadata": {
      "needs_background": "light"
     },
     "output_type": "display_data"
    }
   ],
   "source": [
    "plt.bar(metric['approach'],metric['Te_mae'])\n",
    "# plt.bar(metric['approach'],metric['Te_l1_ce'])\n",
    "plt.xticks(rotation=90)\n",
    "sns.despine()"
   ]
  },
  {
   "cell_type": "code",
   "execution_count": 18,
   "metadata": {},
   "outputs": [
    {
     "data": {
      "image/png": "[encoded data removed]",
      "text/plain": [
       "<Figure size 432x288 with 1 Axes>"
      ]
     },
     "metadata": {
      "needs_background": "light"
     },
     "output_type": "display_data"
    }
   ],
   "source": [
    "plt.bar(metric['approach'],metric['Te_ce'])\n",
    "plt.xticks(rotation=90)\n",
    "sns.despine()"
   ]
  },
  {
   "cell_type": "markdown",
   "metadata": {},
   "source": [
    "MAE = s2p_mlp_testing de \\\n",
    "TRADEOFF = lstm_mlp_testing bs \\\n",
    "ECE = s2p_gmlp_testing simple "
   ]
  },
  {
   "cell_type": "code",
   "execution_count": 19,
   "metadata": {},
   "outputs": [],
   "source": [
    "idx1=2675\n",
    "idx2=2750"
   ]
  },
  {
   "cell_type": "code",
   "execution_count": 20,
   "metadata": {},
   "outputs": [],
   "source": [
    "timestamp = s2p_gmlp_testing[\"timestamp\"][idx1:idx2]"
   ]
  },
  {
   "cell_type": "code",
   "execution_count": 21,
   "metadata": {},
   "outputs": [],
   "source": [
    "timestamp = pd.to_datetime(timestamp).dt.strftime('%H:%M')"
   ]
  },
  {
   "cell_type": "code",
   "execution_count": 22,
   "metadata": {},
   "outputs": [],
   "source": [
    "def plot_figure(ax, y, mean, sigma, title):\n",
    "    ax.plot(timestamp, y[idx1:idx2], label=\"Y\")\n",
    "    ax.plot(timestamp, mean[idx1:idx2], label=\"Mean\")\n",
    "    ax.plot(timestamp, sigma[idx1:idx2], label=\"Sigma\")\n",
    "    ax.set_xticks(jnp.arange(0, idx2-idx1, 10), fontsize=2)\n",
    "    ax.tick_params(axis='x',rotation=60)\n",
    "    error = errors.mae(y.values, mean.values)\n",
    "    df = recalibration.find_p_hat_(y, mean, sigma)\n",
    "    ax.set_title(f'{title} \\nMAE = {error:.2f}, ECE = {mae_(df):.2f}\\n')\n"
   ]
  },
  {
   "cell_type": "code",
   "execution_count": 23,
   "metadata": {},
   "outputs": [],
   "source": [
    "def plot_callibration(ax, y, mean, sigma):\n",
    "    off_idx = y <= 50\n",
    "    on_idx = y > 50\n",
    "    off_truth, off_mean, off_sigma = y[off_idx], mean[off_idx], sigma[off_idx]\n",
    "    on_truth, on_mean, on_sigma = y[on_idx], mean[on_idx], sigma[on_idx]\n",
    "\n",
    "    df = recalibration.find_p_hat_(y, mean, sigma)\n",
    "    ax.plot(df[\"p\"], df[\"p_hat\"], \"--\", label=\"Total\")\n",
    "    total_error = mae_(df)\n",
    "\n",
    "    df = recalibration.find_p_hat_(off_truth,  off_mean, off_sigma)\n",
    "    ax.plot(df[\"p\"], df[\"p_hat\"], \"--\", label=\"Off\")\n",
    "    off_error = mae_(df)\n",
    "\n",
    "    df = recalibration.find_p_hat_(on_truth,  on_mean, on_sigma)\n",
    "    ax.plot(df[\"p\"], df[\"p_hat\"], \"--\", label=\"On\")\n",
    "    on_error = mae_(df)\n",
    "\n",
    "    ax.plot([0,1],[0,1], \"--\", color=\"black\", label=\"Ideal\")\n",
    "    ax.set_title(f'\\nOn ECE = {on_error:.4f}\\nOff ECE = {off_error:.4f}')\n",
    "\n",
    "    ax.set_xlabel(\"p\")"
   ]
  },
  {
   "cell_type": "code",
   "execution_count": 24,
   "metadata": {},
   "outputs": [],
   "source": [
    "latexify(fig_width=6.6,fig_height=4)"
   ]
  },
  {
   "cell_type": "code",
   "execution_count": 25,
   "metadata": {},
   "outputs": [
    {
     "name": "stderr",
     "output_type": "stream",
     "text": [
      "/tmp/ipykernel_3276846/2331214464.py:5: MatplotlibDeprecationWarning: Support for passing numbers through unit converters is deprecated since 3.5 and support will be removed two minor releases later; use Axis.convert_units instead.\n",
      "  ax.set_xticks(jnp.arange(0, idx2-idx1, 10), fontsize=2)\n",
      "/tmp/ipykernel_3276846/2331214464.py:5: MatplotlibDeprecationWarning: Support for passing numbers through unit converters is deprecated since 3.5 and support will be removed two minor releases later; use Axis.convert_units instead.\n",
      "  ax.set_xticks(jnp.arange(0, idx2-idx1, 10), fontsize=2)\n",
      "/tmp/ipykernel_3276846/2331214464.py:5: MatplotlibDeprecationWarning: Support for passing numbers through unit converters is deprecated since 3.5 and support will be removed two minor releases later; use Axis.convert_units instead.\n",
      "  ax.set_xticks(jnp.arange(0, idx2-idx1, 10), fontsize=2)\n"
     ]
    },
    {
     "name": "stdout",
     "output_type": "stream",
     "text": [
      "saving image to /home/desai.aadesh/temp/NILM_Uncertainty/figures/best_error_microwave_latexified.pdf\n"
     ]
    },
    {
     "name": "stderr",
     "output_type": "stream",
     "text": [
      "/home/desai.aadesh/.local/lib/python3.8/site-packages/probml_utils/plotting.py:93: UserWarning: This figure was using constrained_layout, but that is incompatible with subplots_adjust and/or tight_layout; disabling constrained_layout.\n",
      "  plt.tight_layout(pad=pad_inches)\n"
     ]
    },
    {
     "name": "stdout",
     "output_type": "stream",
     "text": [
      "Figure size: [6.6 4. ]\n"
     ]
    },
    {
     "data": {
      "text/plain": [
       "<Figure size 475.2x288 with 0 Axes>"
      ]
     },
     "metadata": {},
     "output_type": "display_data"
    },
    {
     "data": {
      "image/png": "[encoded data removed]",
      "text/plain": [
       "<Figure size 475.2x288 with 6 Axes>"
      ]
     },
     "metadata": {
      "needs_background": "light"
     },
     "output_type": "display_data"
    }
   ],
   "source": [
    "plt.figure()\n",
    "fig, ax = plt.subplots(2, 3, sharey=\"row\", constrained_layout = True)\n",
    "\n",
    "plot_figure(ax[0,0], s2p_mlp_testing[\"ground truth\"], s2p_mlp_testing[\"de_mean\"], \n",
    "            s2p_mlp_testing[\"de_sigma\"], \"Homo S2P DE\")\n",
    "plot_figure(ax[0,1], lstm_mlp_testing[\"ground truth\"], lstm_mlp_testing[\"bs_mean\"], \n",
    "            lstm_mlp_testing[\"bs_sigma\"], \"Homo LSTM BS\")\n",
    "plot_figure(ax[0,2], s2p_gmlp_testing[\"ground truth\"], s2p_gmlp_testing[\"mean\"], \n",
    "            s2p_gmlp_testing[\"sigma\"], \"Hetero S2P NN\")\n",
    "\n",
    "plot_callibration(ax[1,0], s2p_mlp_testing[\"ground truth\"], s2p_mlp_testing[\"de_mean\"], \n",
    "                  s2p_mlp_testing[\"de_sigma\"])\n",
    "plot_callibration(ax[1,1], lstm_mlp_testing[\"ground truth\"], lstm_mlp_testing[\"bs_mean\"], \n",
    "                  lstm_mlp_testing[\"bs_sigma\"])\n",
    "plot_callibration(ax[1,2], s2p_gmlp_testing[\"ground truth\"], s2p_gmlp_testing[\"mean\"], \n",
    "                  s2p_gmlp_testing[\"sigma\"])\n",
    "ax[0,0].legend([\"Ground\\nTruth\"], loc=\"upper left\", fontsize=6)\n",
    "line = mlines.Line2D([], [], color='C1', marker=\"_\", ls='', label='Mean', markersize=13,\n",
    "                    markeredgewidth=1.5)\n",
    "ax[0,1].legend(handles=[line], loc=\"upper left\", fontsize=6)\n",
    "line = mlines.Line2D([], [], color='green', marker=\"_\", ls='', label='Sigma', markersize=13,\n",
    "                    markeredgewidth=1.5)\n",
    "ax[0,2].legend(handles=[line], loc=\"upper left\", fontsize=6)\n",
    "\n",
    "ax[0,0].set_xlabel(\"(a)\")\n",
    "ax[0,1].set_xlabel(\"(b)\")\n",
    "ax[0,2].set_xlabel(\"(c)\")\n",
    "ax[1,0].set_xlabel(\"p\\n(d)\")\n",
    "ax[1,1].set_xlabel(\"p\\n(e)\")\n",
    "ax[1,2].set_xlabel(\"p\\n(f)\")\n",
    "\n",
    "ax[1,0].legend(fontsize=5, loc=\"upper left\")\n",
    "ax[0,0].set_ylabel(\"Power (W)\")\n",
    "ax[1,0].set_ylabel(\"$\\hat{p}$\")\n",
    "sns.despine()\n",
    "savefig(\"best_error_microwave\")"
   ]
  },
  {
   "cell_type": "code",
   "execution_count": null,
   "metadata": {},
   "outputs": [],
   "source": []
  },
  {
   "cell_type": "code",
   "execution_count": null,
   "metadata": {},
   "outputs": [],
   "source": []
  }
 ],
 "metadata": {
  "kernelspec": {
   "display_name": "Python 3.8.10 64-bit",
   "language": "python",
   "name": "python3"
  },
  "language_info": {
   "codemirror_mode": {
    "name": "ipython",
    "version": 3
   },
   "file_extension": ".py",
   "mimetype": "text/x-python",
   "name": "python",
   "nbconvert_exporter": "python",
   "pygments_lexer": "ipython3",
   "version": "3.8.10"
  },
  "orig_nbformat": 4,
  "vscode": {
   "interpreter": {
    "hash": "916dbcbb3f70747c44a77c7bcd40155683ae19c65e1c03b4aa3499c5328201f1"
   }
  }
 },
 "nbformat": 4,
 "nbformat_minor": 2
}
