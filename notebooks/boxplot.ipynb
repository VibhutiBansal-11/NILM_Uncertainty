{
 "cells": [
  {
   "cell_type": "code",
   "execution_count": 1,
   "metadata": {},
   "outputs": [],
   "source": [
    "\n",
    "import pandas as pd\n",
    "import matplotlib.pyplot as plt\n",
    "import seaborn as sns\n",
    "import jax.numpy as jnp\n",
    "import os\n",
    "os.chdir('../')\n",
    "from utilities import plot,errors\n",
    "\n"
   ]
  },
  {
   "cell_type": "code",
   "execution_count": 2,
   "metadata": {},
   "outputs": [
    {
     "name": "stdout",
     "output_type": "stream",
     "text": [
      "env: LATEXIFY=1\n",
      "env: FIG_DIR=figures/\n"
     ]
    }
   ],
   "source": [
    "from probml_utils import latexify, savefig\n",
    "%env LATEXIFY=1\n",
    "%env FIG_DIR=figures/"
   ]
  },
  {
   "cell_type": "code",
   "execution_count": 3,
   "metadata": {},
   "outputs": [],
   "source": [
    "\n",
    "\n",
    "fridge_ece = [\n",
    "    0.25,0.26,0.24,0.13,0.03,0.04,0.07,0.33,0.37,0.39,0.06,0.07,0.08,0.09\n",
    "]\n",
    "fridge_ece = jnp.array(fridge_ece)\n",
    "\n"
   ]
  },
  {
   "cell_type": "code",
   "execution_count": 4,
   "metadata": {},
   "outputs": [],
   "source": [
    "\n",
    "\n",
    "dishwasher_ece = [\n",
    "    0.48,0.43,0.06,0.19,0.16,0.13,0.43,0.49,0.29,0.14,0.23,0.27,0.30,0.29\n",
    "]\n",
    "dishwasher_ece = jnp.array(dishwasher_ece)\n",
    "\n"
   ]
  },
  {
   "cell_type": "code",
   "execution_count": 5,
   "metadata": {},
   "outputs": [],
   "source": [
    "microwave_ece = [\n",
    "   0.47,0.43,0.30,0.03,0.05,0.20,0.22,0.43,0.34,0.12,0.12,0.14,0.11,0.04\n",
    "]\n",
    "microwave_ece = jnp.array(microwave_ece)"
   ]
  },
  {
   "cell_type": "code",
   "execution_count": 6,
   "metadata": {},
   "outputs": [],
   "source": [
    "latexify(fig_width=3.3)"
   ]
  },
  {
   "cell_type": "code",
   "execution_count": 7,
   "metadata": {},
   "outputs": [
    {
     "name": "stdout",
     "output_type": "stream",
     "text": [
      "saving image to figures/box_plot_latexified.pdf\n",
      "Figure size: [3.3 1.5]\n"
     ]
    }
   ],
   "source": [
    "fig, ax = plt.subplots(1)\n",
    "\n",
    "ax.boxplot([fridge_ece], positions=[1], widths=0.5, patch_artist=True, boxprops=dict(facecolor=\"C0\"))\n",
    "ax.boxplot([dishwasher_ece], positions=[2],widths=0.5, patch_artist=True, boxprops=dict(facecolor=\"C4\"))\n",
    "ax.boxplot([microwave_ece], positions=[3],widths=0.5, patch_artist=True, boxprops=dict(facecolor=\"C2\"))\n",
    "sns.despine()\n",
    "ax.set_xticks(jnp.arange(1,4),labels=[\"Fridge\", \"Dishwasher\", \"Microwave\"])\n",
    "ax.set_ylabel(\"ECE\")\n",
    "savefig(\"box_plot\")"
   ]
  },
  {
   "cell_type": "code",
   "execution_count": null,
   "metadata": {},
   "outputs": [],
   "source": []
  }
 ],
 "metadata": {
  "kernelspec": {
   "display_name": "Python 3.8.10 64-bit",
   "language": "python",
   "name": "python3"
  },
  "language_info": {
   "codemirror_mode": {
    "name": "ipython",
    "version": 3
   },
   "file_extension": ".py",
   "mimetype": "text/x-python",
   "name": "python",
   "nbconvert_exporter": "python",
   "pygments_lexer": "ipython3",
   "version": "3.8.10"
  },
  "orig_nbformat": 4,
  "vscode": {
   "interpreter": {
    "hash": "916dbcbb3f70747c44a77c7bcd40155683ae19c65e1c03b4aa3499c5328201f1"
   }
  }
 },
 "nbformat": 4,
 "nbformat_minor": 2
}
